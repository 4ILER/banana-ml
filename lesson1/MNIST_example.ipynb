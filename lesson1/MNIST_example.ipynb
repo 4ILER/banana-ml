{
 "cells": [
  {
   "cell_type": "markdown",
   "metadata": {},
   "source": [
    "# Классификация рукописных цифр из базы MNIST с использованием нейронных сетей"
   ]
  },
  {
   "cell_type": "markdown",
   "metadata": {},
   "source": [
    "Загружаем датасет [MNIST](http://yann.lecun.com/exdb/mnist/). "
   ]
  },
  {
   "cell_type": "code",
   "execution_count": 1,
   "metadata": {},
   "outputs": [],
   "source": [
    "import codecs\n",
    "import array\n",
    "import struct\n",
    "import os\n",
    "import urllib\n",
    "import gzip\n",
    "\n",
    "import numpy as np\n",
    "\n",
    "import matplotlib.pyplot as plt"
   ]
  },
  {
   "cell_type": "code",
   "execution_count": 2,
   "metadata": {},
   "outputs": [],
   "source": [
    "from mnist import load_dataset"
   ]
  },
  {
   "cell_type": "code",
   "execution_count": 3,
   "metadata": {},
   "outputs": [
    {
     "name": "stdout",
     "output_type": "stream",
     "text": [
      "Downloading train-images-idx3-ubyte.gz\n",
      "Downloading train-labels-idx1-ubyte.gz\n",
      "Downloading t10k-images-idx3-ubyte.gz\n",
      "Downloading t10k-labels-idx1-ubyte.gz\n"
     ]
    }
   ],
   "source": [
    "train_images, train_labels, test_images, test_labels = load_dataset()"
   ]
  },
  {
   "cell_type": "code",
   "execution_count": 4,
   "metadata": {},
   "outputs": [
    {
     "name": "stdout",
     "output_type": "stream",
     "text": [
      "Train size = 60000, test_size = 10000\n"
     ]
    }
   ],
   "source": [
    "print(\"Train size = %i, test_size = %i\" % (len(train_images), len(test_images)))"
   ]
  },
  {
   "cell_type": "code",
   "execution_count": 5,
   "metadata": {},
   "outputs": [
    {
     "data": {
      "image/png": "[encoded data removed]",
      "text/plain": [
       "<Figure size 432x288 with 2 Axes>"
      ]
     },
     "metadata": {
      "needs_background": "light"
     },
     "output_type": "display_data"
    }
   ],
   "source": [
    "for i in [0, 1]:\n",
    "    plt.subplot(1, 2, i + 1)\n",
    "    plt.imshow(train_images[i].reshape([28, 28]))\n",
    "    plt.title(str(train_labels[i]))"
   ]
  },
  {
   "cell_type": "markdown",
   "metadata": {},
   "source": [
    "Переводим датасет из бинарного представления в формат numpy матрицы. "
   ]
  },
  {
   "cell_type": "code",
   "execution_count": 6,
   "metadata": {},
   "outputs": [],
   "source": [
    "n_train = len(train_labels)\n",
    "n_test = len(test_labels)"
   ]
  },
  {
   "cell_type": "markdown",
   "metadata": {},
   "source": [
    "Предобрабатываем получившуюся выборку:\n",
    " - приводим все входные признаки в интервал [0;1]\n",
    " - представляем метки классов с помощью one-hot encoding"
   ]
  },
  {
   "cell_type": "code",
   "execution_count": 23,
   "metadata": {},
   "outputs": [],
   "source": [
    "import keras\n",
    "from keras.models import Sequential                                    \n",
    "from keras.layers import Dense, Activation, Dropout                   \n",
    "from keras.optimizers import SGD  , Adam                            \n",
    "from keras.utils.np_utils import to_categorical\n",
    "from keras.regularizers import l2\n",
    "from keras import backend as K"
   ]
  },
  {
   "cell_type": "code",
   "execution_count": 8,
   "metadata": {},
   "outputs": [],
   "source": [
    "def preprocess(X, y):\n",
    "    X = X.astype('float32').reshape(X.shape[0], X.shape[1] * X.shape[2])\n",
    "    X /= 255\n",
    "    y = to_categorical(y, 10)\n",
    "    idxs = np.random.permutation(np.arange(X.shape[0]))\n",
    "    return X[idxs,:],y[idxs,:]"
   ]
  },
  {
   "cell_type": "code",
   "execution_count": 9,
   "metadata": {},
   "outputs": [
    {
     "data": {
      "text/plain": [
       "(60000, 1, 28, 28)"
      ]
     },
     "execution_count": 9,
     "metadata": {},
     "output_type": "execute_result"
    }
   ],
   "source": [
    "train_images.shape"
   ]
  },
  {
   "cell_type": "code",
   "execution_count": 10,
   "metadata": {},
   "outputs": [
    {
     "data": {
      "text/plain": [
       "(60000, 784)"
      ]
     },
     "execution_count": 10,
     "metadata": {},
     "output_type": "execute_result"
    }
   ],
   "source": [
    "X_train, y_train = preprocess(np.squeeze(train_images), train_labels)\n",
    "X_test, y_test = preprocess(np.squeeze(test_images), test_labels)\n",
    "X_train.shape"
   ]
  },
  {
   "cell_type": "markdown",
   "metadata": {},
   "source": [
    "Обучаем простую полносвязную сеть из 1 слоя на базе MNIST. В качестве функции потерь будем использовать кросс-энтропию - обобщение логистической регрессии на случай нескольких классов.\n",
    "Сеть будет обучаться с помошью стохастического градиентного спуска."
   ]
  },
  {
   "cell_type": "code",
   "execution_count": 24,
   "metadata": {},
   "outputs": [
    {
     "name": "stderr",
     "output_type": "stream",
     "text": [
      "/home/darimoon/anaconda3/lib/python3.7/site-packages/ipykernel_launcher.py:7: UserWarning: Update your `Dense` call to the Keras 2 API: `Dense(10, kernel_initializer=\"uniform\")`\n",
      "  import sys\n"
     ]
    }
   ],
   "source": [
    "model = Sequential()\n",
    "\n",
    "model.add(Dense(10, init='uniform'))\n",
    "model.add(Activation('softmax'))\n",
    "\n",
    "sgd = Adam()\n",
    "model.compile(loss='categorical_crossentropy',\n",
    "        optimizer=sgd,\n",
    "        metrics=['accuracy'])"
   ]
  },
  {
   "cell_type": "code",
   "execution_count": 25,
   "metadata": {},
   "outputs": [
    {
     "name": "stderr",
     "output_type": "stream",
     "text": [
      "/home/darimoon/anaconda3/lib/python3.7/site-packages/ipykernel_launcher.py:5: UserWarning: The `nb_epoch` argument in `fit` has been renamed `epochs`.\n",
      "  \"\"\"\n"
     ]
    },
    {
     "name": "stdout",
     "output_type": "stream",
     "text": [
      "Train on 60000 samples, validate on 10000 samples\n",
      "Epoch 1/40\n",
      "60000/60000 [==============================] - 3s 43us/step - loss: 2.2645 - acc: 0.4296 - val_loss: 2.2251 - val_acc: 0.5862\n",
      "Epoch 2/40\n",
      "60000/60000 [==============================] - 2s 41us/step - loss: 2.1904 - acc: 0.6056 - val_loss: 2.1512 - val_acc: 0.6438\n",
      "Epoch 3/40\n",
      "60000/60000 [==============================] - 2s 39us/step - loss: 2.1192 - acc: 0.6518 - val_loss: 2.0800 - val_acc: 0.6936\n",
      "Epoch 4/40\n",
      "60000/60000 [==============================] - 2s 39us/step - loss: 2.0506 - acc: 0.6804 - val_loss: 2.0115 - val_acc: 0.7304\n",
      "Epoch 5/40\n",
      "60000/60000 [==============================] - 2s 40us/step - loss: 1.9847 - acc: 0.7102 - val_loss: 1.9455 - val_acc: 0.7433\n",
      "Epoch 6/40\n",
      "60000/60000 [==============================] - 3s 44us/step - loss: 1.9211 - acc: 0.7207 - val_loss: 1.8821 - val_acc: 0.7581\n",
      "Epoch 7/40\n",
      "60000/60000 [==============================] - 2s 37us/step - loss: 1.8599 - acc: 0.7404 - val_loss: 1.8212 - val_acc: 0.7580\n",
      "Epoch 8/40\n",
      "60000/60000 [==============================] - 2s 41us/step - loss: 1.8012 - acc: 0.7442 - val_loss: 1.7625 - val_acc: 0.7686\n",
      "Epoch 9/40\n",
      "60000/60000 [==============================] - 3s 47us/step - loss: 1.7447 - acc: 0.7495 - val_loss: 1.7063 - val_acc: 0.7797\n",
      "Epoch 10/40\n",
      "60000/60000 [==============================] - 3s 44us/step - loss: 1.6906 - acc: 0.7599 - val_loss: 1.6525 - val_acc: 0.7844\n",
      "Epoch 11/40\n",
      "60000/60000 [==============================] - 2s 37us/step - loss: 1.6387 - acc: 0.7661 - val_loss: 1.6008 - val_acc: 0.7860\n",
      "Epoch 12/40\n",
      "60000/60000 [==============================] - 2s 37us/step - loss: 1.5889 - acc: 0.7714 - val_loss: 1.5513 - val_acc: 0.7912\n",
      "Epoch 13/40\n",
      "60000/60000 [==============================] - 2s 38us/step - loss: 1.5412 - acc: 0.7748 - val_loss: 1.5040 - val_acc: 0.7927\n",
      "Epoch 14/40\n",
      "60000/60000 [==============================] - 2s 39us/step - loss: 1.4954 - acc: 0.7792 - val_loss: 1.4586 - val_acc: 0.7985\n",
      "Epoch 15/40\n",
      "60000/60000 [==============================] - 3s 43us/step - loss: 1.4517 - acc: 0.7841 - val_loss: 1.4153 - val_acc: 0.8004\n",
      "Epoch 16/40\n",
      "60000/60000 [==============================] - 3s 50us/step - loss: 1.4099 - acc: 0.7872 - val_loss: 1.3739 - val_acc: 0.8067\n",
      "Epoch 17/40\n",
      "60000/60000 [==============================] - 3s 42us/step - loss: 1.3700 - acc: 0.7901 - val_loss: 1.3344 - val_acc: 0.8088\n",
      "Epoch 18/40\n",
      "60000/60000 [==============================] - 2s 35us/step - loss: 1.3319 - acc: 0.7932 - val_loss: 1.2966 - val_acc: 0.8119\n",
      "Epoch 19/40\n",
      "60000/60000 [==============================] - 2s 38us/step - loss: 1.2954 - acc: 0.7977 - val_loss: 1.2606 - val_acc: 0.8136\n",
      "Epoch 20/40\n",
      "60000/60000 [==============================] - 2s 36us/step - loss: 1.2607 - acc: 0.7992 - val_loss: 1.2262 - val_acc: 0.8175\n",
      "Epoch 21/40\n",
      "60000/60000 [==============================] - 3s 45us/step - loss: 1.2275 - acc: 0.8035 - val_loss: 1.1933 - val_acc: 0.8182\n",
      "Epoch 22/40\n",
      "60000/60000 [==============================] - 3s 53us/step - loss: 1.1957 - acc: 0.8053 - val_loss: 1.1621 - val_acc: 0.8189\n",
      "Epoch 23/40\n",
      "60000/60000 [==============================] - 2s 37us/step - loss: 1.1654 - acc: 0.8079 - val_loss: 1.1323 - val_acc: 0.8232\n",
      "Epoch 24/40\n",
      "60000/60000 [==============================] - 3s 49us/step - loss: 1.1366 - acc: 0.8103 - val_loss: 1.1037 - val_acc: 0.8257\n",
      "Epoch 25/40\n",
      "60000/60000 [==============================] - 3s 55us/step - loss: 1.1090 - acc: 0.8131 - val_loss: 1.0765 - val_acc: 0.8268\n",
      "Epoch 26/40\n",
      "60000/60000 [==============================] - 2s 39us/step - loss: 1.0826 - acc: 0.8150 - val_loss: 1.0506 - val_acc: 0.8288\n",
      "Epoch 27/40\n",
      "60000/60000 [==============================] - 2s 41us/step - loss: 1.0575 - acc: 0.8171 - val_loss: 1.0257 - val_acc: 0.8314\n",
      "Epoch 28/40\n",
      "60000/60000 [==============================] - 3s 46us/step - loss: 1.0334 - acc: 0.8192 - val_loss: 1.0021 - val_acc: 0.8334\n",
      "Epoch 29/40\n",
      "60000/60000 [==============================] - 3s 51us/step - loss: 1.0105 - acc: 0.8210 - val_loss: 0.9795 - val_acc: 0.8355\n",
      "Epoch 30/40\n",
      "60000/60000 [==============================] - 3s 44us/step - loss: 0.9885 - acc: 0.8228 - val_loss: 0.9579 - val_acc: 0.8358\n",
      "Epoch 31/40\n",
      "60000/60000 [==============================] - 3s 49us/step - loss: 0.9676 - acc: 0.8243 - val_loss: 0.9372 - val_acc: 0.8377\n",
      "Epoch 32/40\n",
      "60000/60000 [==============================] - 3s 44us/step - loss: 0.9476 - acc: 0.8266 - val_loss: 0.9176 - val_acc: 0.8387\n",
      "Epoch 33/40\n",
      "60000/60000 [==============================] - 3s 43us/step - loss: 0.9285 - acc: 0.8282 - val_loss: 0.8988 - val_acc: 0.8403\n",
      "Epoch 34/40\n",
      "60000/60000 [==============================] - 2s 37us/step - loss: 0.9102 - acc: 0.8303 - val_loss: 0.8808 - val_acc: 0.8421\n",
      "Epoch 35/40\n",
      "60000/60000 [==============================] - 3s 42us/step - loss: 0.8927 - acc: 0.8318 - val_loss: 0.8637 - val_acc: 0.8439\n",
      "Epoch 36/40\n",
      "60000/60000 [==============================] - 2s 41us/step - loss: 0.8759 - acc: 0.8342 - val_loss: 0.8471 - val_acc: 0.8449\n",
      "Epoch 37/40\n",
      "60000/60000 [==============================] - 2s 41us/step - loss: 0.8599 - acc: 0.8360 - val_loss: 0.8314 - val_acc: 0.8456\n",
      "Epoch 38/40\n",
      "60000/60000 [==============================] - 2s 33us/step - loss: 0.8445 - acc: 0.8374 - val_loss: 0.8162 - val_acc: 0.8463\n",
      "Epoch 39/40\n",
      "60000/60000 [==============================] - 2s 37us/step - loss: 0.8297 - acc: 0.8392 - val_loss: 0.8017 - val_acc: 0.8476\n",
      "Epoch 40/40\n",
      "60000/60000 [==============================] - 3s 43us/step - loss: 0.8156 - acc: 0.8408 - val_loss: 0.7879 - val_acc: 0.8483\n",
      "10000/10000 [==============================] - 0s 30us/step\n",
      "[0.78786740193367, 0.8483]\n"
     ]
    }
   ],
   "source": [
    "history = model.fit(X_train, y_train,\n",
    "        nb_epoch=40,\n",
    "        batch_size=128,\n",
    "        verbose=1,\n",
    "        validation_data=(X_test, y_test))\n",
    "\n",
    "score = model.evaluate(X_test, y_test, batch_size=128)\n",
    "print(score)"
   ]
  },
  {
   "cell_type": "markdown",
   "metadata": {},
   "source": [
    "Строим графики обучения."
   ]
  },
  {
   "cell_type": "code",
   "execution_count": 26,
   "metadata": {},
   "outputs": [
    {
     "data": {
      "image/png": "[encoded data removed]",
      "text/plain": [
       "<Figure size 576x288 with 1 Axes>"
      ]
     },
     "metadata": {
      "needs_background": "light"
     },
     "output_type": "display_data"
    }
   ],
   "source": [
    "%matplotlib inline\n",
    "import matplotlib.pyplot as plt\n",
    "\n",
    "train_error = 1 - np.array(history.history['acc'])\n",
    "val_error = 1 - np.array(history.history['val_acc'])\n",
    "\n",
    "plt.figure(figsize=(8, 4))\n",
    "plt.plot(train_error, label = 'train')\n",
    "plt.plot(val_error, label = 'test')\n",
    "plt.title('MNIST error')\n",
    "plt.xlabel('Train epoch')\n",
    "plt.ylabel('Error')\n",
    "plt.legend()\n",
    "plt.show()"
   ]
  },
  {
   "cell_type": "markdown",
   "metadata": {},
   "source": [
    "<img src=\"http://download.gamezone.com/uploads/image/data/1190338/article_post_width_a88.jpg\" width=360>\n"
   ]
  },
  {
   "cell_type": "code",
   "execution_count": 27,
   "metadata": {},
   "outputs": [
    {
     "name": "stderr",
     "output_type": "stream",
     "text": [
      "/home/darimoon/anaconda3/lib/python3.7/site-packages/ipykernel_launcher.py:3: UserWarning: Update your `Dense` call to the Keras 2 API: `Dense(512, input_dim=784, kernel_initializer=\"uniform\")`\n",
      "  This is separate from the ipykernel package so we can avoid doing imports until\n",
      "/home/darimoon/anaconda3/lib/python3.7/site-packages/ipykernel_launcher.py:5: UserWarning: Update your `Dense` call to the Keras 2 API: `Dense(512, kernel_initializer=\"uniform\")`\n",
      "  \"\"\"\n",
      "/home/darimoon/anaconda3/lib/python3.7/site-packages/ipykernel_launcher.py:7: UserWarning: Update your `Dense` call to the Keras 2 API: `Dense(10, kernel_initializer=\"uniform\")`\n",
      "  import sys\n"
     ]
    }
   ],
   "source": [
    "model = Sequential()\n",
    "\n",
    "model.add(Dense(512, input_dim=len(X_train[0]), init='uniform'))\n",
    "model.add(Activation('relu'))\n",
    "model.add(Dense(512, init='uniform'))\n",
    "model.add(Activation('sigmoid'))\n",
    "model.add(Dense(10, init='uniform'))\n",
    "model.add(Activation('softmax'))\n",
    "\n",
    "sgd = Adam()\n",
    "model.compile(loss='categorical_crossentropy',\n",
    "        optimizer=sgd,\n",
    "        metrics=['accuracy'])"
   ]
  },
  {
   "cell_type": "markdown",
   "metadata": {
    "collapsed": true
   },
   "source": [
    "![img](https://habrastorage.org/webt/sg/7t/tu/sg7ttuirleaml3_j7dwo2tn0iqs.png)"
   ]
  },
  {
   "cell_type": "code",
   "execution_count": 28,
   "metadata": {},
   "outputs": [
    {
     "name": "stderr",
     "output_type": "stream",
     "text": [
      "/home/darimoon/anaconda3/lib/python3.7/site-packages/ipykernel_launcher.py:5: UserWarning: The `nb_epoch` argument in `fit` has been renamed `epochs`.\n",
      "  \"\"\"\n"
     ]
    },
    {
     "name": "stdout",
     "output_type": "stream",
     "text": [
      "Train on 60000 samples, validate on 10000 samples\n",
      "Epoch 1/40\n",
      "60000/60000 [==============================] - 19s 312us/step - loss: 1.3018 - acc: 0.5563 - val_loss: 0.6702 - val_acc: 0.7941\n",
      "Epoch 2/40\n",
      "60000/60000 [==============================] - 18s 296us/step - loss: 0.5466 - acc: 0.8326 - val_loss: 0.4421 - val_acc: 0.8644\n",
      "Epoch 3/40\n",
      "60000/60000 [==============================] - 17s 290us/step - loss: 0.4069 - acc: 0.8787 - val_loss: 0.3595 - val_acc: 0.8952\n",
      "Epoch 4/40\n",
      "60000/60000 [==============================] - 17s 290us/step - loss: 0.3532 - acc: 0.8960 - val_loss: 0.3224 - val_acc: 0.9051\n",
      "Epoch 5/40\n",
      "60000/60000 [==============================] - 16s 270us/step - loss: 0.3219 - acc: 0.9051 - val_loss: 0.3058 - val_acc: 0.9084\n",
      "Epoch 6/40\n",
      "60000/60000 [==============================] - 19s 320us/step - loss: 0.2975 - acc: 0.9125 - val_loss: 0.2831 - val_acc: 0.9167\n",
      "Epoch 7/40\n",
      "60000/60000 [==============================] - 17s 282us/step - loss: 0.2773 - acc: 0.9183 - val_loss: 0.2690 - val_acc: 0.9211\n",
      "Epoch 8/40\n",
      "60000/60000 [==============================] - 18s 302us/step - loss: 0.2557 - acc: 0.9254 - val_loss: 0.2412 - val_acc: 0.9285\n",
      "Epoch 9/40\n",
      "60000/60000 [==============================] - 16s 269us/step - loss: 0.2381 - acc: 0.9300 - val_loss: 0.2353 - val_acc: 0.9289\n",
      "Epoch 10/40\n",
      "60000/60000 [==============================] - 15s 248us/step - loss: 0.2176 - acc: 0.9357 - val_loss: 0.2098 - val_acc: 0.9371\n",
      "Epoch 11/40\n",
      "60000/60000 [==============================] - 16s 274us/step - loss: 0.2011 - acc: 0.9413 - val_loss: 0.2041 - val_acc: 0.9387\n",
      "Epoch 12/40\n",
      "60000/60000 [==============================] - 14s 236us/step - loss: 0.1861 - acc: 0.9454 - val_loss: 0.1866 - val_acc: 0.9451\n",
      "Epoch 13/40\n",
      "60000/60000 [==============================] - 13s 222us/step - loss: 0.1737 - acc: 0.9488 - val_loss: 0.1718 - val_acc: 0.9499\n",
      "Epoch 14/40\n",
      "60000/60000 [==============================] - 12s 203us/step - loss: 0.1606 - acc: 0.9522 - val_loss: 0.1597 - val_acc: 0.9509\n",
      "Epoch 15/40\n",
      "60000/60000 [==============================] - 12s 203us/step - loss: 0.1501 - acc: 0.9548 - val_loss: 0.1554 - val_acc: 0.9536\n",
      "Epoch 16/40\n",
      "60000/60000 [==============================] - 16s 272us/step - loss: 0.1405 - acc: 0.9581 - val_loss: 0.1456 - val_acc: 0.9557\n",
      "Epoch 17/40\n",
      "60000/60000 [==============================] - 13s 223us/step - loss: 0.1314 - acc: 0.9610 - val_loss: 0.1380 - val_acc: 0.9576\n",
      "Epoch 18/40\n",
      "60000/60000 [==============================] - 14s 229us/step - loss: 0.1248 - acc: 0.9625 - val_loss: 0.1395 - val_acc: 0.9589\n",
      "Epoch 19/40\n",
      "60000/60000 [==============================] - 16s 267us/step - loss: 0.1157 - acc: 0.9647 - val_loss: 0.1309 - val_acc: 0.9601\n",
      "Epoch 20/40\n",
      "60000/60000 [==============================] - 18s 296us/step - loss: 0.1085 - acc: 0.9678 - val_loss: 0.1222 - val_acc: 0.9648\n",
      "Epoch 21/40\n",
      "60000/60000 [==============================] - 15s 257us/step - loss: 0.1046 - acc: 0.9682 - val_loss: 0.1152 - val_acc: 0.9662\n",
      "Epoch 22/40\n",
      "60000/60000 [==============================] - 13s 214us/step - loss: 0.0971 - acc: 0.9704 - val_loss: 0.1144 - val_acc: 0.9664\n",
      "Epoch 23/40\n",
      "60000/60000 [==============================] - 14s 228us/step - loss: 0.0925 - acc: 0.9721 - val_loss: 0.1140 - val_acc: 0.9668\n",
      "Epoch 24/40\n",
      "60000/60000 [==============================] - 13s 213us/step - loss: 0.0886 - acc: 0.9735 - val_loss: 0.1071 - val_acc: 0.9681\n",
      "Epoch 25/40\n",
      "60000/60000 [==============================] - 13s 212us/step - loss: 0.0829 - acc: 0.9749 - val_loss: 0.1027 - val_acc: 0.9697\n",
      "Epoch 26/40\n",
      "60000/60000 [==============================] - 14s 225us/step - loss: 0.0783 - acc: 0.9761 - val_loss: 0.0984 - val_acc: 0.9701\n",
      "Epoch 27/40\n",
      "60000/60000 [==============================] - 13s 213us/step - loss: 0.0738 - acc: 0.9777 - val_loss: 0.1040 - val_acc: 0.9692\n",
      "Epoch 28/40\n",
      "60000/60000 [==============================] - 13s 211us/step - loss: 0.0712 - acc: 0.9786 - val_loss: 0.0939 - val_acc: 0.9722\n",
      "Epoch 29/40\n",
      "60000/60000 [==============================] - 12s 207us/step - loss: 0.0672 - acc: 0.9799 - val_loss: 0.0929 - val_acc: 0.9737\n",
      "Epoch 30/40\n",
      "60000/60000 [==============================] - 12s 208us/step - loss: 0.0638 - acc: 0.9808 - val_loss: 0.0920 - val_acc: 0.9726\n",
      "Epoch 31/40\n",
      "60000/60000 [==============================] - 12s 204us/step - loss: 0.0599 - acc: 0.9820 - val_loss: 0.0950 - val_acc: 0.9717\n",
      "Epoch 32/40\n",
      "60000/60000 [==============================] - 13s 210us/step - loss: 0.0576 - acc: 0.9822 - val_loss: 0.0910 - val_acc: 0.9728\n",
      "Epoch 33/40\n",
      "60000/60000 [==============================] - 12s 207us/step - loss: 0.0549 - acc: 0.9836 - val_loss: 0.0871 - val_acc: 0.9746\n",
      "Epoch 34/40\n",
      "60000/60000 [==============================] - 12s 202us/step - loss: 0.0515 - acc: 0.9849 - val_loss: 0.0828 - val_acc: 0.9747\n",
      "Epoch 35/40\n",
      "60000/60000 [==============================] - 13s 212us/step - loss: 0.0478 - acc: 0.9858 - val_loss: 0.0877 - val_acc: 0.9749\n",
      "Epoch 36/40\n",
      "60000/60000 [==============================] - 12s 207us/step - loss: 0.0465 - acc: 0.9862 - val_loss: 0.0878 - val_acc: 0.9745\n",
      "Epoch 37/40\n",
      "60000/60000 [==============================] - 12s 206us/step - loss: 0.0434 - acc: 0.9875 - val_loss: 0.0813 - val_acc: 0.9767\n",
      "Epoch 38/40\n",
      "60000/60000 [==============================] - 13s 208us/step - loss: 0.0415 - acc: 0.9878 - val_loss: 0.0811 - val_acc: 0.9756\n",
      "Epoch 39/40\n",
      "60000/60000 [==============================] - 13s 220us/step - loss: 0.0389 - acc: 0.9882 - val_loss: 0.0795 - val_acc: 0.9757\n",
      "Epoch 40/40\n",
      "60000/60000 [==============================] - 12s 208us/step - loss: 0.0371 - acc: 0.9893 - val_loss: 0.0844 - val_acc: 0.9760\n",
      "10000/10000 [==============================] - 1s 71us/step\n",
      "[0.08443162296824157, 0.976]\n"
     ]
    }
   ],
   "source": [
    "history = model.fit(X_train, y_train,\n",
    "        nb_epoch=40,\n",
    "        batch_size=128,\n",
    "        verbose=1,\n",
    "        validation_data=(X_test, y_test))\n",
    "\n",
    "score = model.evaluate(X_test, y_test, batch_size=128)\n",
    "print(score)"
   ]
  },
  {
   "cell_type": "code",
   "execution_count": null,
   "metadata": {},
   "outputs": [],
   "source": [
    "import sys\n",
    "import os\n",
    "import time\n",
    "\n",
    "import numpy as np\n",
    "\n",
    "__doc__=\"\"\"taken from https://github.com/Lasagne/Lasagne/blob/master/examples/mnist.py\"\"\"\n",
    "\n",
    "def load_dataset():\n",
    "    # We first define a download function, supporting both Python 2 and 3.\n",
    "    if sys.version_info[0] == 2:\n",
    "        from urllib import urlretrieve\n",
    "    else:\n",
    "        from urllib.request import urlretrieve\n",
    "\n",
    "    def download(filename, source='http://yann.lecun.com/exdb/mnist/'):\n",
    "        print(\"Downloading %s\" % filename)\n",
    "        urlretrieve(source + filename, filename)\n",
    "\n",
    "    # We then define functions for loading MNIST images and labels.\n",
    "    # For convenience, they also download the requested files if needed.\n",
    "    import gzip\n",
    "\n",
    "    def load_mnist_images(filename):\n",
    "        if not os.path.exists(filename):\n",
    "            download(filename)\n",
    "        # Read the inputs in Yann LeCun's binary format.\n",
    "        with gzip.open(filename, 'rb') as f:\n",
    "            data = np.frombuffer(f.read(), np.uint8, offset=16)\n",
    "        # The inputs are vectors now, we reshape them to monochrome 2D images,\n",
    "        # following the shape convention: (examples, channels, rows, columns)\n",
    "        data = data.reshape(-1, 1, 28, 28)\n",
    "        # The inputs come as bytes, we convert them to float32 in range [0,1].\n",
    "        # (Actually to range [0, 255/256], for compatibility to the version\n",
    "        # provided at http://deeplearning.net/data/mnist/mnist.pkl.gz.)\n",
    "        return data / np.float32(256)\n",
    "\n",
    "    def load_mnist_labels(filename):\n",
    "        if not os.path.exists(filename):\n",
    "            download(filename)\n",
    "        # Read the labels in Yann LeCun's binary format.\n",
    "        with gzip.open(filename, 'rb') as f:\n",
    "            data = np.frombuffer(f.read(), np.uint8, offset=8)\n",
    "        # The labels are vectors of integers now, that's exactly what we want.\n",
    "        return data\n",
    "\n",
    "    # We can now download and read the training and test set images and labels.\n",
    "    X_train = load_mnist_images('train-images-idx3-ubyte.gz')\n",
    "    y_train = load_mnist_labels('train-labels-idx1-ubyte.gz')\n",
    "    X_test = load_mnist_images('t10k-images-idx3-ubyte.gz')\n",
    "    y_test = load_mnist_labels('t10k-labels-idx1-ubyte.gz')\n",
    "\n",
    "    # We reserve the last 10000 training examples for validation.\n",
    "#     X_train, X_val = X_train[:-10000], X_train[-10000:]\n",
    "#     y_train, y_val = y_train[:-10000], y_train[-10000:]\n",
    "\n",
    "    # We just return all the arrays in order, as expected in main().\n",
    "    # (It doesn't matter how we do this as long as we can read them again.)\n",
    "    return X_train, y_train, X_test, y_test"
   ]
  },
  {
   "cell_type": "code",
   "execution_count": 29,
   "metadata": {},
   "outputs": [
    {
     "data": {
      "image/png": "[encoded data removed]",
      "text/plain": [
       "<Figure size 576x288 with 1 Axes>"
      ]
     },
     "metadata": {
      "needs_background": "light"
     },
     "output_type": "display_data"
    }
   ],
   "source": [
    "%matplotlib inline\n",
    "import matplotlib.pyplot as plt\n",
    "\n",
    "train_error = 1 - np.array(history.history['acc'])\n",
    "val_error = 1 - np.array(history.history['val_acc'])\n",
    "\n",
    "plt.figure(figsize=(8, 4))\n",
    "plt.plot(train_error, label = 'train')\n",
    "plt.plot(val_error, label = 'test')\n",
    "plt.title('MNIST error')\n",
    "plt.xlabel('Train epoch')\n",
    "plt.ylabel('Error')\n",
    "plt.legend()\n",
    "plt.show()"
   ]
  },
  {
   "cell_type": "code",
   "execution_count": null,
   "metadata": {},
   "outputs": [],
   "source": []
  }
 ],
 "metadata": {
  "anaconda-cloud": {},
  "kernelspec": {
   "display_name": "Python 3",
   "language": "python",
   "name": "python3"
  },
  "language_info": {
   "codemirror_mode": {
    "name": "ipython",
    "version": 3
   },
   "file_extension": ".py",
   "mimetype": "text/x-python",
   "name": "python",
   "nbconvert_exporter": "python",
   "pygments_lexer": "ipython3",
   "version": "3.7.1"
  }
 },
 "nbformat": 4,
 "nbformat_minor": 2
}
