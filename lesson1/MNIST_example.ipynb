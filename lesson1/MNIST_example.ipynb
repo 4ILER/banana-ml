{
 "cells": [
  {
   "cell_type": "markdown",
   "metadata": {},
   "source": [
    "# Классификация рукописных цифр из базы MNIST с использованием нейронных сетей"
   ]
  },
  {
   "cell_type": "markdown",
   "metadata": {},
   "source": [
    "Загружаем датасет [MNIST](http://yann.lecun.com/exdb/mnist/). "
   ]
  },
  {
   "cell_type": "code",
   "execution_count": 1,
   "metadata": {
    "collapsed": true
   },
   "outputs": [],
   "source": [
    "import codecs\n",
    "import array\n",
    "import struct\n",
    "import os\n",
    "import urllib\n",
    "import gzip\n",
    "\n",
    "import numpy as np\n",
    "\n",
    "import matplotlib.pyplot as plt"
   ]
  },
  {
   "cell_type": "code",
   "execution_count": 2,
   "metadata": {},
   "outputs": [],
   "source": [
    "from mnist import load_dataset"
   ]
  },
  {
   "cell_type": "code",
   "execution_count": 3,
   "metadata": {},
   "outputs": [],
   "source": [
    "train_images, train_labels, test_images, test_labels = load_dataset()"
   ]
  },
  {
   "cell_type": "code",
   "execution_count": 4,
   "metadata": {},
   "outputs": [
    {
     "name": "stdout",
     "output_type": "stream",
     "text": [
      "Train size = 60000, test_size = 10000\n"
     ]
    }
   ],
   "source": [
    "print(\"Train size = %i, test_size = %i\" % (len(train_images), len(test_images)))"
   ]
  },
  {
   "cell_type": "code",
   "execution_count": 5,
   "metadata": {},
   "outputs": [
    {
     "data": {
      "image/png": "[encoded data removed]",
      "text/plain": [
       "<Figure size 432x288 with 2 Axes>"
      ]
     },
     "metadata": {
      "needs_background": "light"
     },
     "output_type": "display_data"
    }
   ],
   "source": [
    "for i in [0, 1]:\n",
    "    plt.subplot(1, 2, i + 1)\n",
    "    plt.imshow(train_images[i].reshape([28, 28]))\n",
    "    plt.title(str(train_labels[i]))"
   ]
  },
  {
   "cell_type": "markdown",
   "metadata": {},
   "source": [
    "Переводим датасет из бинарного представления в формат numpy матрицы. "
   ]
  },
  {
   "cell_type": "code",
   "execution_count": 6,
   "metadata": {},
   "outputs": [],
   "source": [
    "n_train = len(train_labels)\n",
    "n_test = len(test_labels)"
   ]
  },
  {
   "cell_type": "markdown",
   "metadata": {},
   "source": [
    "Предобрабатываем получившуюся выборку:\n",
    " - приводим все входные признаки в интервал [0;1]\n",
    " - представляем метки классов с помощью one-hot encoding"
   ]
  },
  {
   "cell_type": "code",
   "execution_count": 7,
   "metadata": {},
   "outputs": [
    {
     "name": "stderr",
     "output_type": "stream",
     "text": [
      "Using TensorFlow backend.\n"
     ]
    }
   ],
   "source": [
    "import keras\n",
    "from keras.models import Sequential                                    \n",
    "from keras.layers import Dense, Activation, Dropout                   \n",
    "from keras.optimizers import SGD                              \n",
    "from keras.utils.np_utils import to_categorical\n",
    "from keras.regularizers import l2\n",
    "from keras import backend as K"
   ]
  },
  {
   "cell_type": "code",
   "execution_count": 8,
   "metadata": {
    "collapsed": true
   },
   "outputs": [],
   "source": [
    "def preprocess(X, y):\n",
    "    X = X.astype('float32').reshape(X.shape[0], X.shape[1] * X.shape[2])\n",
    "    X /= 255\n",
    "    y = to_categorical(y, 10)\n",
    "    idxs = np.random.permutation(np.arange(X.shape[0]))\n",
    "    return X[idxs,:],y[idxs,:]"
   ]
  },
  {
   "cell_type": "code",
   "execution_count": 9,
   "metadata": {},
   "outputs": [
    {
     "data": {
      "text/plain": [
       "(60000, 1, 28, 28)"
      ]
     },
     "execution_count": 9,
     "metadata": {},
     "output_type": "execute_result"
    }
   ],
   "source": [
    "train_images.shape"
   ]
  },
  {
   "cell_type": "code",
   "execution_count": 10,
   "metadata": {},
   "outputs": [
    {
     "data": {
      "text/plain": [
       "(60000, 784)"
      ]
     },
     "execution_count": 10,
     "metadata": {},
     "output_type": "execute_result"
    }
   ],
   "source": [
    "X_train, y_train = preprocess(np.squeeze(train_images), train_labels)\n",
    "X_test, y_test = preprocess(np.squeeze(test_images), test_labels)\n",
    "X_train.shape"
   ]
  },
  {
   "cell_type": "markdown",
   "metadata": {},
   "source": [
    "Обучаем простую полносвязную сеть из двух слоев на базе MNIST. В качестве функции потерь будем использовать кросс-энтропию - обобщение логистической регрессии на случай нескольких классов.\n",
    "Сеть будет обучаться с помошью стандартного стохастического градиентного спуска."
   ]
  },
  {
   "cell_type": "code",
   "execution_count": 11,
   "metadata": {
    "collapsed": true
   },
   "outputs": [
    {
     "name": "stderr",
     "output_type": "stream",
     "text": [
      "/usr/local/lib/python3.5/dist-packages/ipykernel_launcher.py:3: UserWarning: Update your `Dense` call to the Keras 2 API: `Dense(512, input_dim=784, kernel_initializer=\"uniform\")`\n",
      "  This is separate from the ipykernel package so we can avoid doing imports until\n",
      "/usr/local/lib/python3.5/dist-packages/ipykernel_launcher.py:6: UserWarning: Update your `Dense` call to the Keras 2 API: `Dense(512, kernel_initializer=\"uniform\")`\n",
      "  \n",
      "/usr/local/lib/python3.5/dist-packages/ipykernel_launcher.py:9: UserWarning: Update your `Dense` call to the Keras 2 API: `Dense(10, kernel_initializer=\"uniform\")`\n",
      "  if __name__ == '__main__':\n"
     ]
    }
   ],
   "source": [
    "model = Sequential()\n",
    "\n",
    "model.add(Dense(512, input_dim=len(X_train[0]), init='uniform'))\n",
    "model.add(Activation('relu'))\n",
    "model.add(Dropout(0.3))\n",
    "model.add(Dense(512, init='uniform'))\n",
    "model.add(Activation('sigmoid'))\n",
    "model.add(Dropout(0.3))\n",
    "model.add(Dense(10, init='uniform'))\n",
    "model.add(Activation('softmax'))\n",
    "\n",
    "sgd = SGD(lr=0.1, momentum=0.0, decay=0.0)\n",
    "model.compile(loss='categorical_crossentropy',\n",
    "        optimizer=sgd,\n",
    "        metrics=['accuracy'])"
   ]
  },
  {
   "cell_type": "code",
   "execution_count": 12,
   "metadata": {},
   "outputs": [
    {
     "name": "stdout",
     "output_type": "stream",
     "text": [
      "Thu Oct  3 15:36:59 2019       \n",
      "+-----------------------------------------------------------------------------+\n",
      "| NVIDIA-SMI 410.78       Driver Version: 410.78       CUDA Version: 10.0     |\n",
      "|-------------------------------+----------------------+----------------------+\n",
      "| GPU  Name        Persistence-M| Bus-Id        Disp.A | Volatile Uncorr. ECC |\n",
      "| Fan  Temp  Perf  Pwr:Usage/Cap|         Memory-Usage | GPU-Util  Compute M. |\n",
      "|===============================+======================+======================|\n",
      "|   0  GeForce GTX 1080    Off  | 00000000:03:00.0 Off |                  N/A |\n",
      "|  0%   37C    P8    15W / 200W |   7856MiB /  8119MiB |      0%      Default |\n",
      "+-------------------------------+----------------------+----------------------+\n",
      "|   1  GeForce GTX 1080    Off  | 00000000:04:00.0 Off |                  N/A |\n",
      "|  0%   36C    P8    15W / 200W |   7856MiB /  8119MiB |      0%      Default |\n",
      "+-------------------------------+----------------------+----------------------+\n",
      "|   2  GeForce GTX 1080    Off  | 00000000:07:00.0 Off |                  N/A |\n",
      "|  0%   38C    P8    14W / 200W |    185MiB /  8119MiB |      0%      Default |\n",
      "+-------------------------------+----------------------+----------------------+\n",
      "|   3  GeForce GTX 1080    Off  | 00000000:08:00.0 Off |                  N/A |\n",
      "|  0%   42C    P8    15W / 200W |    185MiB /  8119MiB |      0%      Default |\n",
      "+-------------------------------+----------------------+----------------------+\n",
      "|   4  GeForce GTX 1080    Off  | 00000000:83:00.0 Off |                  N/A |\n",
      "|  0%   39C    P8    14W / 200W |    185MiB /  8119MiB |      0%      Default |\n",
      "+-------------------------------+----------------------+----------------------+\n",
      "|   5  GeForce GTX 1080    Off  | 00000000:84:00.0 Off |                  N/A |\n",
      "|  0%   38C    P8    14W / 200W |   7946MiB /  8119MiB |      0%      Default |\n",
      "+-------------------------------+----------------------+----------------------+\n",
      "|   6  GeForce GTX 1080    Off  | 00000000:87:00.0 Off |                  N/A |\n",
      "|  0%   40C    P8    14W / 200W |    185MiB /  8119MiB |      0%      Default |\n",
      "+-------------------------------+----------------------+----------------------+\n",
      "|   7  GeForce GTX 1080    Off  | 00000000:88:00.0 Off |                  N/A |\n",
      "|  0%   38C    P8    14W / 200W |   7856MiB /  8119MiB |      0%      Default |\n",
      "+-------------------------------+----------------------+----------------------+\n",
      "                                                                               \n",
      "+-----------------------------------------------------------------------------+\n",
      "| Processes:                                                       GPU Memory |\n",
      "|  GPU       PID   Type   Process name                             Usage      |\n",
      "|=============================================================================|\n",
      "+-----------------------------------------------------------------------------+\n"
     ]
    }
   ],
   "source": [
    "!nvidia-smi"
   ]
  },
  {
   "cell_type": "code",
   "execution_count": 13,
   "metadata": {},
   "outputs": [
    {
     "name": "stdout",
     "output_type": "stream",
     "text": [
      "env: CUDA_VISIBLE_DEVICES=4\n"
     ]
    }
   ],
   "source": [
    "%env CUDA_VISIBLE_DEVICES=4"
   ]
  },
  {
   "cell_type": "code",
   "execution_count": null,
   "metadata": {},
   "outputs": [
    {
     "name": "stderr",
     "output_type": "stream",
     "text": [
      "/usr/local/lib/python3.5/dist-packages/ipykernel_launcher.py:5: UserWarning: The `nb_epoch` argument in `fit` has been renamed `epochs`.\n",
      "  \"\"\"\n"
     ]
    },
    {
     "name": "stdout",
     "output_type": "stream",
     "text": [
      "Train on 60000 samples, validate on 10000 samples\n",
      "Epoch 1/40\n",
      "60000/60000 [==============================] - 6s 108us/step - loss: 2.3818 - acc: 0.1027 - val_loss: 2.4173 - val_acc: 0.0974\n",
      "Epoch 2/40\n",
      "60000/60000 [==============================] - 2s 38us/step - loss: 2.3872 - acc: 0.0979 - val_loss: 2.3609 - val_acc: 0.1009\n",
      "Epoch 3/40\n",
      "60000/60000 [==============================] - 2s 38us/step - loss: 2.3859 - acc: 0.1004 - val_loss: 2.3239 - val_acc: 0.1009\n",
      "Epoch 4/40\n",
      "60000/60000 [==============================] - 2s 38us/step - loss: 2.3730 - acc: 0.1007 - val_loss: 2.3710 - val_acc: 0.1135\n",
      "Epoch 5/40\n",
      "60000/60000 [==============================] - 2s 41us/step - loss: 2.3759 - acc: 0.1005 - val_loss: 2.4125 - val_acc: 0.0982\n",
      "Epoch 6/40\n",
      "60000/60000 [==============================] - 3s 42us/step - loss: 2.3726 - acc: 0.1014 - val_loss: 2.3533 - val_acc: 0.1135\n",
      "Epoch 7/40\n",
      "60000/60000 [==============================] - 3s 43us/step - loss: 2.3715 - acc: 0.1021 - val_loss: 2.4404 - val_acc: 0.0980\n",
      "Epoch 8/40\n",
      "60000/60000 [==============================] - 3s 43us/step - loss: 2.3694 - acc: 0.1011 - val_loss: 2.3863 - val_acc: 0.1032\n",
      "Epoch 9/40\n",
      "60000/60000 [==============================] - 3s 42us/step - loss: 2.3725 - acc: 0.1018 - val_loss: 2.3349 - val_acc: 0.1028\n",
      "Epoch 10/40\n",
      "60000/60000 [==============================] - 3s 44us/step - loss: 2.3633 - acc: 0.1017 - val_loss: 2.3608 - val_acc: 0.1135\n",
      "Epoch 11/40\n",
      "60000/60000 [==============================] - 2s 42us/step - loss: 2.3625 - acc: 0.1031 - val_loss: 2.3779 - val_acc: 0.1010\n",
      "Epoch 12/40\n",
      "60000/60000 [==============================] - 3s 43us/step - loss: 2.3586 - acc: 0.1025 - val_loss: 2.3760 - val_acc: 0.1135\n",
      "Epoch 13/40\n",
      "60000/60000 [==============================] - 3s 43us/step - loss: 2.3592 - acc: 0.1030 - val_loss: 2.3722 - val_acc: 0.1009\n",
      "Epoch 14/40\n",
      "60000/60000 [==============================] - 2s 42us/step - loss: 2.3565 - acc: 0.1021 - val_loss: 2.3485 - val_acc: 0.0980\n",
      "Epoch 15/40\n",
      "60000/60000 [==============================] - 3s 43us/step - loss: 2.3546 - acc: 0.1004 - val_loss: 2.3580 - val_acc: 0.1032\n",
      "Epoch 16/40\n",
      "60000/60000 [==============================] - 3s 44us/step - loss: 2.3530 - acc: 0.1014 - val_loss: 2.3310 - val_acc: 0.1135\n",
      "Epoch 17/40\n",
      "60000/60000 [==============================] - 3s 42us/step - loss: 2.3453 - acc: 0.1024 - val_loss: 2.3284 - val_acc: 0.1009\n",
      "Epoch 18/40\n",
      "60000/60000 [==============================] - 3s 43us/step - loss: 2.3436 - acc: 0.1021 - val_loss: 2.3323 - val_acc: 0.1028\n",
      "Epoch 19/40\n",
      "60000/60000 [==============================] - 3s 42us/step - loss: 2.3422 - acc: 0.1043 - val_loss: 2.3565 - val_acc: 0.0974\n",
      "Epoch 20/40\n",
      "60000/60000 [==============================] - 2s 42us/step - loss: 2.3388 - acc: 0.1012 - val_loss: 2.3678 - val_acc: 0.1135\n",
      "Epoch 21/40\n",
      "60000/60000 [==============================] - 3s 43us/step - loss: 2.3347 - acc: 0.1028 - val_loss: 2.3466 - val_acc: 0.0892\n",
      "Epoch 22/40\n",
      "60000/60000 [==============================] - 3s 42us/step - loss: 2.3323 - acc: 0.1018 - val_loss: 2.3275 - val_acc: 0.1032\n",
      "Epoch 23/40\n",
      "60000/60000 [==============================] - 2s 42us/step - loss: 2.3282 - acc: 0.1025 - val_loss: 2.3378 - val_acc: 0.1028\n",
      "Epoch 24/40\n",
      "60000/60000 [==============================] - 2s 41us/step - loss: 2.3270 - acc: 0.1030 - val_loss: 2.3244 - val_acc: 0.0980\n",
      "Epoch 25/40\n",
      "60000/60000 [==============================] - 3s 42us/step - loss: 2.3254 - acc: 0.1027 - val_loss: 2.3488 - val_acc: 0.1010\n",
      "Epoch 26/40\n",
      "60000/60000 [==============================] - 3s 42us/step - loss: 2.3217 - acc: 0.1020 - val_loss: 2.3102 - val_acc: 0.0974\n",
      "Epoch 27/40\n",
      "60000/60000 [==============================] - 2s 40us/step - loss: 2.3200 - acc: 0.1035 - val_loss: 2.3235 - val_acc: 0.1135\n",
      "Epoch 28/40\n",
      "60000/60000 [==============================] - 2s 39us/step - loss: 2.3181 - acc: 0.1045 - val_loss: 2.3298 - val_acc: 0.1032\n",
      "Epoch 29/40\n",
      "60000/60000 [==============================] - 2s 38us/step - loss: 2.3163 - acc: 0.1042 - val_loss: 2.3092 - val_acc: 0.1135\n",
      "Epoch 30/40\n",
      "60000/60000 [==============================] - 2s 37us/step - loss: 2.3150 - acc: 0.1038 - val_loss: 2.3093 - val_acc: 0.1010\n",
      "Epoch 31/40\n",
      "60000/60000 [==============================] - 2s 39us/step - loss: 2.3145 - acc: 0.1020 - val_loss: 2.3138 - val_acc: 0.1135\n",
      "Epoch 32/40\n",
      "60000/60000 [==============================] - 2s 35us/step - loss: 2.3128 - acc: 0.1014 - val_loss: 2.3042 - val_acc: 0.0980\n",
      "Epoch 33/40\n",
      "60000/60000 [==============================] - 2s 35us/step - loss: 2.3118 - acc: 0.1028 - val_loss: 2.3132 - val_acc: 0.1028\n",
      "Epoch 34/40\n",
      "60000/60000 [==============================] - 2s 38us/step - loss: 2.3109 - acc: 0.1022 - val_loss: 2.3030 - val_acc: 0.1135\n",
      "Epoch 35/40\n",
      "60000/60000 [==============================] - 2s 37us/step - loss: 2.3093 - acc: 0.1031 - val_loss: 2.3067 - val_acc: 0.0982\n",
      "Epoch 36/40\n",
      "60000/60000 [==============================] - 2s 36us/step - loss: 2.3095 - acc: 0.1023 - val_loss: 2.3068 - val_acc: 0.1032\n",
      "Epoch 37/40\n",
      "60000/60000 [==============================] - 2s 35us/step - loss: 2.3085 - acc: 0.1048 - val_loss: 2.3064 - val_acc: 0.1135\n",
      "Epoch 38/40\n",
      "60000/60000 [==============================] - 2s 37us/step - loss: 2.3078 - acc: 0.1054 - val_loss: 2.3055 - val_acc: 0.0982\n",
      "Epoch 39/40\n",
      "60000/60000 [==============================] - 2s 37us/step - loss: 2.3080 - acc: 0.1035 - val_loss: 2.3051 - val_acc: 0.1028\n",
      "Epoch 40/40\n",
      "36992/60000 [=================>............] - ETA: 0s - loss: 2.3067 - acc: 0.1050"
     ]
    }
   ],
   "source": [
    "history = model.fit(X_train, y_train,\n",
    "        nb_epoch=40,\n",
    "        batch_size=128,\n",
    "        verbose=1,\n",
    "        validation_data=(X_test, y_test))\n",
    "\n",
    "score = model.evaluate(X_test, y_test, batch_size=128)\n",
    "print(score)"
   ]
  },
  {
   "cell_type": "markdown",
   "metadata": {},
   "source": [
    "Строим графики обучения."
   ]
  },
  {
   "cell_type": "code",
   "execution_count": 13,
   "metadata": {},
   "outputs": [
    {
     "data": {
      "image/png": "[encoded data removed]",
      "text/plain": [
       "<matplotlib.figure.Figure at 0x7fcd0cf4f990>"
      ]
     },
     "metadata": {},
     "output_type": "display_data"
    }
   ],
   "source": [
    "%matplotlib inline\n",
    "import matplotlib.pyplot as plt\n",
    "\n",
    "train_error = 1 - np.array(history.history['acc'])\n",
    "val_error = 1 - np.array(history.history['val_acc'])\n",
    "\n",
    "plt.figure(figsize=(8, 4))\n",
    "plt.plot(train_error, label = 'train')\n",
    "plt.plot(val_error, label = 'test')\n",
    "plt.title('MNIST error')\n",
    "plt.xlabel('Train epoch')\n",
    "plt.ylabel('Error')\n",
    "plt.legend()\n",
    "plt.show()"
   ]
  },
  {
   "cell_type": "code",
   "execution_count": null,
   "metadata": {
    "collapsed": true
   },
   "outputs": [],
   "source": []
  },
  {
   "cell_type": "code",
   "execution_count": null,
   "metadata": {},
   "outputs": [],
   "source": []
  },
  {
   "cell_type": "code",
   "execution_count": null,
   "metadata": {},
   "outputs": [],
   "source": [
    "import sys\n",
    "import os\n",
    "import time\n",
    "\n",
    "import numpy as np\n",
    "\n",
    "__doc__=\"\"\"taken from https://github.com/Lasagne/Lasagne/blob/master/examples/mnist.py\"\"\"\n",
    "\n",
    "def load_dataset():\n",
    "    # We first define a download function, supporting both Python 2 and 3.\n",
    "    if sys.version_info[0] == 2:\n",
    "        from urllib import urlretrieve\n",
    "    else:\n",
    "        from urllib.request import urlretrieve\n",
    "\n",
    "    def download(filename, source='http://yann.lecun.com/exdb/mnist/'):\n",
    "        print(\"Downloading %s\" % filename)\n",
    "        urlretrieve(source + filename, filename)\n",
    "\n",
    "    # We then define functions for loading MNIST images and labels.\n",
    "    # For convenience, they also download the requested files if needed.\n",
    "    import gzip\n",
    "\n",
    "    def load_mnist_images(filename):\n",
    "        if not os.path.exists(filename):\n",
    "            download(filename)\n",
    "        # Read the inputs in Yann LeCun's binary format.\n",
    "        with gzip.open(filename, 'rb') as f:\n",
    "            data = np.frombuffer(f.read(), np.uint8, offset=16)\n",
    "        # The inputs are vectors now, we reshape them to monochrome 2D images,\n",
    "        # following the shape convention: (examples, channels, rows, columns)\n",
    "        data = data.reshape(-1, 1, 28, 28)\n",
    "        # The inputs come as bytes, we convert them to float32 in range [0,1].\n",
    "        # (Actually to range [0, 255/256], for compatibility to the version\n",
    "        # provided at http://deeplearning.net/data/mnist/mnist.pkl.gz.)\n",
    "        return data / np.float32(256)\n",
    "\n",
    "    def load_mnist_labels(filename):\n",
    "        if not os.path.exists(filename):\n",
    "            download(filename)\n",
    "        # Read the labels in Yann LeCun's binary format.\n",
    "        with gzip.open(filename, 'rb') as f:\n",
    "            data = np.frombuffer(f.read(), np.uint8, offset=8)\n",
    "        # The labels are vectors of integers now, that's exactly what we want.\n",
    "        return data\n",
    "\n",
    "    # We can now download and read the training and test set images and labels.\n",
    "    X_train = load_mnist_images('train-images-idx3-ubyte.gz')\n",
    "    y_train = load_mnist_labels('train-labels-idx1-ubyte.gz')\n",
    "    X_test = load_mnist_images('t10k-images-idx3-ubyte.gz')\n",
    "    y_test = load_mnist_labels('t10k-labels-idx1-ubyte.gz')\n",
    "\n",
    "    # We reserve the last 10000 training examples for validation.\n",
    "#     X_train, X_val = X_train[:-10000], X_train[-10000:]\n",
    "#     y_train, y_val = y_train[:-10000], y_train[-10000:]\n",
    "\n",
    "    # We just return all the arrays in order, as expected in main().\n",
    "    # (It doesn't matter how we do this as long as we can read them again.)\n",
    "    return X_train, y_train, X_test, y_test"
   ]
  },
  {
   "cell_type": "code",
   "execution_count": null,
   "metadata": {},
   "outputs": [],
   "source": []
  }
 ],
 "metadata": {
  "anaconda-cloud": {},
  "kernelspec": {
   "display_name": "Python 3",
   "language": "python",
   "name": "python3"
  },
  "language_info": {
   "codemirror_mode": {
    "name": "ipython",
    "version": 3
   },
   "file_extension": ".py",
   "mimetype": "text/x-python",
   "name": "python",
   "nbconvert_exporter": "python",
   "pygments_lexer": "ipython3",
   "version": "3.5.2"
  }
 },
 "nbformat": 4,
 "nbformat_minor": 2
}
