{
 "cells": [
  {
   "cell_type": "markdown",
   "metadata": {},
   "source": [
    "### Generating human faces with Adversarial Networks\n",
    "<img src=\"https://www.strangerdimensions.com/wp-content/uploads/2013/11/reception-robot.jpg\" width=320>\n",
    "\n",
    "Основано на https://github.com/Practical_DL"
   ]
  },
  {
   "cell_type": "code",
   "execution_count": null,
   "metadata": {},
   "outputs": [],
   "source": [
    "%env CUDA_VISIBLE_DEVICES=1"
   ]
  },
  {
   "cell_type": "code",
   "execution_count": 3,
   "metadata": {},
   "outputs": [
    {
     "name": "stdout",
     "output_type": "stream",
     "text": [
      "--2020-04-16 15:41:07--  https://raw.githubusercontent.com/yandexdataschool/Practical_DL/hw3_19/homework03/lfw_dataset.py\n",
      "Resolving raw.githubusercontent.com (raw.githubusercontent.com)... 151.101.244.133\n",
      "Connecting to raw.githubusercontent.com (raw.githubusercontent.com)|151.101.244.133|:443... connected.\n",
      "HTTP request sent, awaiting response... 200 OK\n",
      "Length: 2734 (2.7K) [text/plain]\n",
      "Saving to: ‘lfw_dataset.py’\n",
      "\n",
      "lfw_dataset.py      100%[===================>]   2.67K  --.-KB/s    in 0s      \n",
      "\n",
      "2020-04-16 15:41:07 (31.9 MB/s) - ‘lfw_dataset.py’ saved [2734/2734]\n",
      "\n"
     ]
    }
   ],
   "source": [
    "# 1. Не забудь сменить Runtime: to Runtime -> Change Runtime Type -> GPU\n",
    "!wget https://raw.githubusercontent.com/yandexdataschool/Practical_DL/hw3_19/homework03/lfw_dataset.py -O lfw_dataset.py"
   ]
  },
  {
   "cell_type": "code",
   "execution_count": 2,
   "metadata": {},
   "outputs": [],
   "source": [
    "import matplotlib.pyplot as plt\n",
    "%matplotlib inline\n",
    "import numpy as np\n",
    "plt.rcParams.update({'axes.titlesize': 'small'})\n",
    "\n",
    "from sklearn.datasets import load_digits\n",
    "#The following line fetches you two datasets: images, usable for autoencoder training and attributes.\n",
    "#Those attributes will be required for the final part of the assignment (applying smiles), so please keep them in mind\n",
    "from lfw_dataset import fetch_lfw_dataset\n",
    "data,attrs = fetch_lfw_dataset(dimx=36,dimy=36)\n",
    "\n",
    "#preprocess faces\n",
    "data = np.float32(data).transpose([0,3,1,2]) / 255.\n",
    "\n",
    "IMG_SHAPE = data.shape[1:]"
   ]
  },
  {
   "cell_type": "code",
   "execution_count": 3,
   "metadata": {},
   "outputs": [
    {
     "data": {
      "text/plain": [
       "<matplotlib.image.AxesImage at 0x7f6b5bc66a90>"
      ]
     },
     "execution_count": 3,
     "metadata": {},
     "output_type": "execute_result"
    },
    {
     "data": {
      "image/png": "[encoded data removed]",
      "text/plain": [
       "<Figure size 432x288 with 1 Axes>"
      ]
     },
     "metadata": {
      "needs_background": "light"
     },
     "output_type": "display_data"
    }
   ],
   "source": [
    "#print random image\n",
    "plt.imshow(data[np.random.randint(data.shape[0])].transpose([1,2,0]),\n",
    "           cmap=\"gray\", interpolation=\"none\")"
   ]
  },
  {
   "cell_type": "markdown",
   "metadata": {},
   "source": [
    "# Generative adversarial nets 101\n",
    "\n",
    "<img src=\"https://raw.githubusercontent.com/torch/torch.github.io/master/blog/_posts/images/model.png\" width=320px height=240px>\n",
    "\n",
    "Глубокое обучение просто, не так ли?\n",
    "* построить сеть, которая генерирует лицо (маленькое изображение)\n",
    "* составьте __measure__ из __ насколько хорошо это лицо __\n",
    "* оптимизировать с градиентным спуском :)\n",
    "\n",
    "\n",
    "Единственная проблема: как мы, инженеры, можем отличить хорошо сформированные лица от плохих? Бьюсь об заклад, мы не будем просить дизайнера о помощи.\n",
    "\n",
    "__Если мы не можем отличить хорошие лица от плохих, мы делегируем их еще одной нейронной сети! __\n",
    "\n",
    "Это делает их двоих:\n",
    "* __G__enerator - принимает случайный шум для вдохновения и пытается сгенерировать образец лица.\n",
    "   * Давайте назовем его __G __ (z), где z - это гауссовский шум.\n",
    "* __D__iscriminator - берет образец лица и пытается определить, хороший он или фальшивый.\n",
    "   * Предсказывает вероятность того, что входное изображение будет \"реальным лицом\".\n",
    "   * Давайте назовем его __D __ (x), где x - изображение.\n",
    "   * __D (x) __ является предварительным условием для реального изображения, а __D (G (z)) __ является предсказанием для лица, созданного генератором.\n",
    "\n",
    "Прежде чем мы углубимся в их обучение, давайте построим две сети."
   ]
  },
  {
   "cell_type": "code",
   "execution_count": 4,
   "metadata": {},
   "outputs": [
    {
     "name": "stdout",
     "output_type": "stream",
     "text": [
      "Torch version: 1.3.1\n",
      "Using GPU\n"
     ]
    }
   ],
   "source": [
    "import torch, torch.nn as nn\n",
    "import torch.nn.functional as F\n",
    "\n",
    "use_cuda = torch.cuda.is_available()\n",
    "\n",
    "print(\"Torch version:\", torch.__version__)\n",
    "if use_cuda:\n",
    "    print(\"Using GPU\")\n",
    "else:\n",
    "    print(\"Not using GPU\")"
   ]
  },
  {
   "cell_type": "code",
   "execution_count": 5,
   "metadata": {},
   "outputs": [],
   "source": [
    "def sample_noise_batch(batch_size):\n",
    "    noise = torch.randn(batch_size, CODE_SIZE)\n",
    "    return noise.cuda() if use_cuda else noise.cpu()\n",
    "    \n",
    "class Reshape(nn.Module):\n",
    "    def __init__(self, shape):\n",
    "        nn.Module.__init__(self)\n",
    "        self.shape=shape\n",
    "    def forward(self,input):\n",
    "        return input.view(self.shape)"
   ]
  },
  {
   "cell_type": "code",
   "execution_count": 6,
   "metadata": {},
   "outputs": [],
   "source": [
    "CODE_SIZE = 256\n",
    "\n",
    "generator = nn.Sequential(\n",
    "    nn.Linear(CODE_SIZE, 10*8*8),\n",
    "    nn.ELU(),\n",
    "    Reshape([-1, 10, 8, 8]),\n",
    "    nn.ConvTranspose2d(10, 64, kernel_size=(5,5)),\n",
    "    nn.ELU(),\n",
    "    nn.ConvTranspose2d(64, 64, kernel_size=(5,5)),\n",
    "    nn.ELU(),\n",
    "    nn.Upsample(scale_factor=2),\n",
    "    nn.ConvTranspose2d(64, 32, kernel_size=(5,5)),\n",
    "    nn.ELU(),\n",
    "    nn.ConvTranspose2d(32, 32, kernel_size=(5,5)),\n",
    "    nn.Conv2d(32, 3, kernel_size=(5,5))\n",
    ")\n",
    "\n",
    "if use_cuda: generator.cuda()"
   ]
  },
  {
   "cell_type": "code",
   "execution_count": 7,
   "metadata": {},
   "outputs": [],
   "source": [
    "generated_data = generator(sample_noise_batch(5))\n",
    "assert tuple(generated_data.shape)[1:] == IMG_SHAPE, \"generator must output an image of shape %s, but instead it produces %s\"%(IMG_SHAPE,generated_data.shape)"
   ]
  },
  {
   "cell_type": "markdown",
   "metadata": {},
   "source": [
    "### Discriminator\n",
    "\n",
    "* Дискриминатор - это ваша обычная сверточная сеть с пулингами\n",
    "* Сеть не включает dropout/batchnorm, чтобы избежать осложнений при обучении.\n",
    "* Мы также нормализуем предпоследний слой, чтобы дискриминатор не был слишком точным."
   ]
  },
  {
   "cell_type": "code",
   "execution_count": 8,
   "metadata": {},
   "outputs": [],
   "source": [
    "def sample_data_batch(batch_size):\n",
    "    idxs = np.random.choice(np.arange(data.shape[0]), size=batch_size)\n",
    "    batch = torch.tensor(data[idxs], dtype=torch.float32)\n",
    "    return batch.cuda() if use_cuda else batch.cpu()\n",
    "\n",
    "# a special module that converts [batch, channel, w, h] to [batch, units]\n",
    "class Flatten(nn.Module):\n",
    "    def forward(self, input):\n",
    "        return input.view(input.size(0), -1)"
   ]
  },
  {
   "cell_type": "code",
   "execution_count": null,
   "metadata": {
    "collapsed": true,
    "jupyter": {
     "outputs_hidden": true
    }
   },
   "outputs": [],
   "source": [
    "discriminator = nn.Sequential()\n",
    "\n",
    "### YOUR CODE - create convolutional architecture for discriminator\n",
    "### Note: please start simple. A few convolutions & poolings would do, inception/resnet is an overkill\n",
    "\n",
    "# and a final layer...\n",
    "discriminator.add_module(\"disc_logit\", nn.Linear(<???>, 1))\n",
    "\n",
    "if use_cuda: discriminator.cuda()"
   ]
  },
  {
   "cell_type": "code",
   "execution_count": null,
   "metadata": {
    "collapsed": true,
    "jupyter": {
     "outputs_hidden": true
    }
   },
   "outputs": [],
   "source": [
    "discriminator(sample_data_batch(5))"
   ]
  },
  {
   "cell_type": "markdown",
   "metadata": {},
   "source": [
    "# Training\n",
    "\n",
    "Мы обучаем две сети одновременно:\n",
    "* Тренируйте __discriminator__, чтобы лучше отличать реальные данные от генератора __current__\n",
    "* Тренируйте __generator__, чтобы заставить дискриминатора думать, что генератор настоящий\n",
    "* Поскольку дискриминатор является дифференцируемой нейронной сетью, мы тренируемся с градиентным спуском.\n",
    "\n",
    "\n",
    "Обучение проводится итеративно до тех пор, пока дискриминатор больше не сможет найти разницу (или пока у вас не закончится терпение).\n",
    "\n",
    "\n",
    "### Tricks:\n",
    "* Регуляризация выходного веса дискриминатора для предотвращения gradient explosion\n",
    "* Тренируйте генератор с __adam__, чтобы ускорить обучение. Дискриминатор тренируется с SGD, чтобы избежать проблем с моментами.\n",
    "* Подробнее: https://github.com/soumith/ganhacks"
   ]
  },
  {
   "cell_type": "code",
   "execution_count": null,
   "metadata": {
    "collapsed": true,
    "jupyter": {
     "outputs_hidden": true
    }
   },
   "outputs": [],
   "source": [
    "def generator_loss(noise):\n",
    "    \"\"\"\n",
    "    1. generate data given noise\n",
    "    2. compute log P(real | gen noise)\n",
    "    3. return generator loss (should be scalar)\n",
    "    \"\"\"\n",
    "    generated_data = <generate data given noise>\n",
    "    \n",
    "    disc_on_generated_data = <discriminator's opinion on generated data>\n",
    "    \n",
    "    logp_gen_is_real = F.logsigmoid(disc_on_generated_data)\n",
    "    \n",
    "    loss = - <generator loss>\n",
    "    \n",
    "    return loss"
   ]
  },
  {
   "cell_type": "code",
   "execution_count": null,
   "metadata": {
    "collapsed": true,
    "jupyter": {
     "outputs_hidden": true
    }
   },
   "outputs": [],
   "source": [
    "loss = generator_loss(sample_noise_batch(32))\n",
    "\n",
    "print(loss)\n",
    "\n",
    "assert len(loss.shape) == 0, \"loss must be scalar\""
   ]
  },
  {
   "cell_type": "code",
   "execution_count": null,
   "metadata": {
    "collapsed": true,
    "jupyter": {
     "outputs_hidden": true
    }
   },
   "outputs": [],
   "source": [
    "def discriminator_loss(real_data, generated_data):\n",
    "    \"\"\"\n",
    "    1. compute discriminator's output on real & generated data\n",
    "    2. compute log-probabilities of real data being real, generated data being fake\n",
    "    3. return discriminator loss (scalar)\n",
    "    \"\"\"\n",
    "    disc_on_real_data = <discriminator's opinion on real data>\n",
    "    disc_on_fake_data = <discriminator's opinion on generated data>\n",
    "    \n",
    "    logp_real_is_real = F.logsigmoid(disc_on_real_data)\n",
    "    logp_gen_is_fake = F.logsigmoid(- logp_gen_is_fake)\n",
    "    \n",
    "    loss = <discriminator loss>\n",
    "    return loss"
   ]
  },
  {
   "cell_type": "code",
   "execution_count": null,
   "metadata": {
    "collapsed": true,
    "jupyter": {
     "outputs_hidden": true
    }
   },
   "outputs": [],
   "source": [
    "loss = discriminator_loss(sample_data_batch(32), \n",
    "                   generator(sample_noise_batch(32)))\n",
    "\n",
    "print(loss)\n",
    "\n",
    "assert len(loss.shape) == 1 and loss.shape[0] == 1, \"loss must be scalar\""
   ]
  },
  {
   "cell_type": "markdown",
   "metadata": {},
   "source": [
    "### Auxilary functions\n",
    "Здесь мы определяем несколько вспомогательных функций, которые рисуют текущие распределения данных и образцы данных обучения."
   ]
  },
  {
   "cell_type": "code",
   "execution_count": null,
   "metadata": {
    "collapsed": true,
    "jupyter": {
     "outputs_hidden": true
    }
   },
   "outputs": [],
   "source": [
    "def sample_images(nrow,ncol, sharp=False):\n",
    "    images = generator(sample_noise_batch(batch_size=nrow*ncol))\n",
    "    images = images.data.cpu().numpy().transpose([0,2,3,1])\n",
    "    if np.var(images)!=0:\n",
    "        images = images.clip(np.min(data),np.max(data))\n",
    "    for i in range(nrow*ncol):\n",
    "        plt.subplot(nrow,ncol,i+1)\n",
    "        if sharp:\n",
    "            plt.imshow(images[i],cmap=\"gray\", interpolation=\"none\")\n",
    "        else:\n",
    "            plt.imshow(images[i],cmap=\"gray\")\n",
    "    plt.show()\n",
    "\n",
    "def sample_probas(batch_size):\n",
    "    plt.title('Generated vs real data')\n",
    "    D_real = F.sigmoid(discriminator(sample_data_batch(batch_size)))\n",
    "    generated_data_batch = generator(sample_noise_batch(batch_size))\n",
    "    D_fake = F.sigmoid(discriminator(generated_data_batch))\n",
    "    \n",
    "    plt.hist(D_real.data.cpu().numpy(),\n",
    "             label='D(x)', alpha=0.5,range=[0,1])\n",
    "    plt.hist(D_fake.data.cpu().numpy(),\n",
    "             label='D(G(z))',alpha=0.5,range=[0,1])\n",
    "    plt.legend(loc='best')\n",
    "    plt.show()"
   ]
  },
  {
   "cell_type": "markdown",
   "metadata": {},
   "source": [
    "### Training\n",
    "\n"
   ]
  },
  {
   "cell_type": "code",
   "execution_count": null,
   "metadata": {
    "collapsed": true,
    "jupyter": {
     "outputs_hidden": true
    }
   },
   "outputs": [],
   "source": [
    "#optimizers\n",
    "disc_opt = torch.optim.SGD(discriminator.parameters(), lr=5e-3)\n",
    "gen_opt = torch.optim.Adam(generator.parameters(), lr=1e-4)"
   ]
  },
  {
   "cell_type": "code",
   "execution_count": null,
   "metadata": {
    "collapsed": true,
    "jupyter": {
     "outputs_hidden": true
    },
    "scrolled": true
   },
   "outputs": [],
   "source": [
    "from IPython import display\n",
    "from tqdm import tnrange\n",
    "batch_size = 100\n",
    "\n",
    "for epoch in tnrange(50000):\n",
    "    \n",
    "    # Train discriminator\n",
    "    for i in range(5):\n",
    "        real_data = sample_data_batch(batch_size)\n",
    "        fake_data = generator(sample_noise_batch(batch_size))\n",
    "        loss = discriminator_loss(real_data, fake_data)\n",
    "        disc_opt.zero_grad()\n",
    "        loss.backward()\n",
    "        disc_opt.step()\n",
    "        \n",
    "    # Train generator\n",
    "    noise = sample_noise_batch(batch_size)\n",
    "    loss = generator_loss(noise)\n",
    "    gen_opt.zero_grad()\n",
    "    loss.backward()\n",
    "    gen_opt.step()\n",
    "    \n",
    "    if epoch %100==0:\n",
    "        display.clear_output(wait=True)\n",
    "        sample_images(2,3,True)\n",
    "        sample_probas(1000)\n",
    "        "
   ]
  },
  {
   "cell_type": "code",
   "execution_count": null,
   "metadata": {
    "collapsed": true,
    "jupyter": {
     "outputs_hidden": true
    }
   },
   "outputs": [],
   "source": [
    "#The network was trained for about 15k iterations. \n",
    "#Training for longer yields MUCH better results\n",
    "plt.figure(figsize=[16,24])\n",
    "sample_images(16,8)"
   ]
  }
 ],
 "metadata": {
  "anaconda-cloud": {},
  "kernelspec": {
   "display_name": "Python 3",
   "language": "python",
   "name": "python3"
  },
  "language_info": {
   "codemirror_mode": {
    "name": "ipython",
    "version": 3
   },
   "file_extension": ".py",
   "mimetype": "text/x-python",
   "name": "python",
   "nbconvert_exporter": "python",
   "pygments_lexer": "ipython3",
   "version": "3.6.9"
  }
 },
 "nbformat": 4,
 "nbformat_minor": 4
}
