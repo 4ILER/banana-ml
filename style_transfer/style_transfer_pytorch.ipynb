{
 "cells": [
  {
   "cell_type": "markdown",
   "metadata": {
    "colab_type": "text",
    "id": "nsKCO-s_VdCf"
   },
   "source": [
    "### Перенос стиля с помощью нейронных сетей\n",
    "### Neural style transfer"
   ]
  },
  {
   "cell_type": "code",
   "execution_count": 2,
   "metadata": {
    "colab": {},
    "colab_type": "code",
    "id": "RanDMavdVdDr"
   },
   "outputs": [
    {
     "name": "stdout",
     "output_type": "stream",
     "text": [
      "torch 1.3.1\n",
      "Using GPU.\n"
     ]
    }
   ],
   "source": [
    "import numpy as np\n",
    "import matplotlib.pyplot as plt\n",
    "%matplotlib inline\n",
    "from matplotlib.pyplot import imread\n",
    "from skimage.transform import resize\n",
    "\n",
    "import torch, torch.nn as nn\n",
    "import torch.nn.functional as F\n",
    "from torch.autograd import Variable\n",
    "\n",
    "# desired size of the output image\n",
    "imsize = 256   # REDUCE THIS TO 128 IF THE OPTIMIZATION IS TOO SLOW FOR YOU\n",
    "def image_loader(image_name):\n",
    "    image = resize(imread(image_name), [imsize, imsize])\n",
    "    image = image.transpose([2,0,1]) / image.max()\n",
    "    image = Variable(dtype(image))\n",
    "    # fake batch dimension required to fit network's input dimensions\n",
    "    image = image.unsqueeze(0)\n",
    "    return image\n",
    "\n",
    "use_cuda = torch.cuda.is_available()\n",
    "\n",
    "print(\"torch\", torch.__version__)\n",
    "if use_cuda:\n",
    "    print(\"Using GPU.\")\n",
    "else:\n",
    "    print(\"Not using GPU.\")\n",
    "dtype = torch.cuda.FloatTensor if use_cuda else torch.FloatTensor"
   ]
  },
  {
   "cell_type": "markdown",
   "metadata": {
    "colab_type": "text",
    "id": "9DpdYNl_VdEA"
   },
   "source": [
    "### Draw input images"
   ]
  },
  {
   "cell_type": "code",
   "execution_count": 3,
   "metadata": {
    "colab": {},
    "colab_type": "code",
    "id": "hD5VMJACVdEF"
   },
   "outputs": [
    {
     "name": "stdout",
     "output_type": "stream",
     "text": [
      "--2020-04-12 08:33:25--  https://github.com/yandexdataschool/Practical_DL/archive/spring20.zip\n",
      "Resolving github.com (github.com)... 140.82.118.3\n",
      "Connecting to github.com (github.com)|140.82.118.3|:443... connected.\n",
      "HTTP request sent, awaiting response... 302 Found\n",
      "Location: https://codeload.github.com/yandexdataschool/Practical_DL/zip/spring20 [following]\n",
      "--2020-04-12 08:33:26--  https://codeload.github.com/yandexdataschool/Practical_DL/zip/spring20\n",
      "Resolving codeload.github.com (codeload.github.com)... 140.82.112.9\n",
      "Connecting to codeload.github.com (codeload.github.com)|140.82.112.9|:443... connected.\n",
      "HTTP request sent, awaiting response... 200 OK\n",
      "Length: unspecified [application/zip]\n",
      "Saving to: ‘spring20.zip.1’\n",
      "\n",
      "spring20.zip.1          [      <=>           ]  11.70M  8.19MB/s    in 1.4s    \n",
      "\n",
      "2020-04-12 08:33:29 (8.19 MB/s) - ‘spring20.zip.1’ saved [12265284]\n",
      "\n",
      "Archive:  spring20.zip\n",
      "aae9f2c549e6198d4df241007eff85b760e441ac\n",
      "   creating: Practical_DL-spring20/\n",
      "  inflating: Practical_DL-spring20/.gitignore  \n",
      "  inflating: Practical_DL-spring20/Dockerfile  \n",
      "  inflating: Practical_DL-spring20/LICENSE.md  \n",
      "  inflating: Practical_DL-spring20/README.md  \n",
      "   creating: Practical_DL-spring20/homework01/\n",
      "  inflating: Practical_DL-spring20/homework01/grad.png  \n",
      "  inflating: Practical_DL-spring20/homework01/homework_differentiation.ipynb  \n",
      "  inflating: Practical_DL-spring20/homework01/homework_main-advanced.ipynb  \n",
      "  inflating: Practical_DL-spring20/homework01/homework_main-basic.ipynb  \n",
      "  inflating: Practical_DL-spring20/homework01/homework_modules.ipynb  \n",
      "  inflating: Practical_DL-spring20/homework01/homework_test_modules.ipynb  \n",
      "  inflating: Practical_DL-spring20/homework01/mnist.py  \n",
      "   creating: Practical_DL-spring20/homework02/\n",
      "  inflating: Practical_DL-spring20/homework02/README.md  \n",
      "  inflating: Practical_DL-spring20/homework02/homework_advanced.ipynb  \n",
      "  inflating: Practical_DL-spring20/homework02/homework_part1.ipynb  \n",
      "  inflating: Practical_DL-spring20/homework02/homework_part2.ipynb  \n",
      "  inflating: Practical_DL-spring20/homework02/notmnist.py  \n",
      "  inflating: Practical_DL-spring20/homework02/tiny_img.py  \n",
      "   creating: Practical_DL-spring20/homework03/\n",
      "  inflating: Practical_DL-spring20/homework03/homework03_part1_both.ipynb  \n",
      "  inflating: Practical_DL-spring20/homework03/homework03_part2_autoencoders_basic.ipynb  \n",
      "  inflating: Practical_DL-spring20/homework03/homework03_part2_vae_advanced.ipynb  \n",
      "  inflating: Practical_DL-spring20/homework03/homework03_part3_gan_basic.ipynb  \n",
      "  inflating: Practical_DL-spring20/homework03/homework03_part3a_gan_advanced.ipynb  \n",
      "  inflating: Practical_DL-spring20/homework03/homework03_part3b_prd_score_advanced.ipynb  \n",
      "  inflating: Practical_DL-spring20/homework03/lfw_dataset.py  \n",
      "  inflating: Practical_DL-spring20/homework03/linear.png  \n",
      "  inflating: Practical_DL-spring20/homework03/simple_1d_gan_pytorch.ipynb  \n",
      "   creating: Practical_DL-spring20/seminar01-backprop/\n",
      "  inflating: Practical_DL-spring20/seminar01-backprop/README.md  \n",
      "   creating: Practical_DL-spring20/seminar01-backprop/adapdive_sgd/\n",
      "  inflating: Practical_DL-spring20/seminar01-backprop/adapdive_sgd/README.md  \n",
      "  inflating: Practical_DL-spring20/seminar01-backprop/adapdive_sgd/adaptive_sgd.ipynb  \n",
      "  inflating: Practical_DL-spring20/seminar01-backprop/backprop.ipynb  \n",
      "  inflating: Practical_DL-spring20/seminar01-backprop/frank.png  \n",
      "  inflating: Practical_DL-spring20/seminar01-backprop/mnist.py  \n",
      "  inflating: Practical_DL-spring20/seminar01-backprop/seminar_slides.pdf  \n",
      "  inflating: Practical_DL-spring20/seminar01-backprop/util.py  \n",
      "   creating: Practical_DL-spring20/seminar02-autograd/\n",
      "  inflating: Practical_DL-spring20/seminar02-autograd/README.md  \n",
      "  inflating: Practical_DL-spring20/seminar02-autograd/mnist.py  \n",
      "  inflating: Practical_DL-spring20/seminar02-autograd/notmnist.py  \n",
      "  inflating: Practical_DL-spring20/seminar02-autograd/seminar_pytorch.ipynb  \n",
      "   creating: Practical_DL-spring20/seminar03-conv_nets/\n",
      "  inflating: Practical_DL-spring20/seminar03-conv_nets/how_to_shoot_yourself_in_the_foot_with_cnn.ipynb  \n",
      "  inflating: Practical_DL-spring20/seminar03-conv_nets/seminar3_pytorch.ipynb  \n",
      "   creating: Practical_DL-spring20/seminar04-finetuning/\n",
      "  inflating: Practical_DL-spring20/seminar04-finetuning/README.md  \n",
      "   creating: Practical_DL-spring20/seminar04-finetuning/sample_images/\n",
      "  inflating: Practical_DL-spring20/seminar04-finetuning/sample_images/albatross.jpg  \n",
      "  inflating: Practical_DL-spring20/seminar04-finetuning/sample_images/fox.jpg  \n",
      "  inflating: Practical_DL-spring20/seminar04-finetuning/sample_images/hen.jpg  \n",
      "  inflating: Practical_DL-spring20/seminar04-finetuning/sample_images/kitten.jpg  \n",
      "  inflating: Practical_DL-spring20/seminar04-finetuning/sample_images/plague-doctor-mask.jpg  \n",
      "  inflating: Practical_DL-spring20/seminar04-finetuning/sample_images/steve_martin.jpg  \n",
      "  inflating: Practical_DL-spring20/seminar04-finetuning/sample_images/tiger.jpg  \n",
      "  inflating: Practical_DL-spring20/seminar04-finetuning/seminar_pytorch.ipynb  \n",
      "   creating: Practical_DL-spring20/seminar05-dense_prediction/\n",
      "  inflating: Practical_DL-spring20/seminar05-dense_prediction/README.md  \n",
      "  inflating: Practical_DL-spring20/seminar05-dense_prediction/layer_wrappers.py  \n",
      "  inflating: Practical_DL-spring20/seminar05-dense_prediction/seminar_dense_prediction.ipynb  \n",
      " extracting: Practical_DL-spring20/seminar05-dense_prediction/um_000081-pred.png  \n",
      "  inflating: Practical_DL-spring20/seminar05-dense_prediction/um_000081.png  \n",
      "  inflating: Practical_DL-spring20/seminar05-dense_prediction/um_road_000081.png  \n",
      "   creating: Practical_DL-spring20/seminar06-style-transfer/\n",
      "  inflating: Practical_DL-spring20/seminar06-style-transfer/README.md  \n",
      "   creating: Practical_DL-spring20/seminar06-style-transfer/images/\n",
      "  inflating: Practical_DL-spring20/seminar06-style-transfer/images/chicago.jpg  \n",
      "  inflating: Practical_DL-spring20/seminar06-style-transfer/images/dancing.jpg  \n",
      "  inflating: Practical_DL-spring20/seminar06-style-transfer/images/des_glaneuses.jpg  \n",
      "  inflating: Practical_DL-spring20/seminar06-style-transfer/images/hohnsensee.jpg  \n",
      "  inflating: Practical_DL-spring20/seminar06-style-transfer/images/hohnsensee2.jpg  \n",
      "  inflating: Practical_DL-spring20/seminar06-style-transfer/images/kit01.jpg  \n",
      "  inflating: Practical_DL-spring20/seminar06-style-transfer/images/la_muse.jpg  \n",
      "  inflating: Practical_DL-spring20/seminar06-style-transfer/images/lizengsun.jpg  \n",
      "  inflating: Practical_DL-spring20/seminar06-style-transfer/images/my_img.jpg  \n",
      "  inflating: Practical_DL-spring20/seminar06-style-transfer/images/picasso.jpg  \n",
      "  inflating: Practical_DL-spring20/seminar06-style-transfer/images/rain_princess.jpg  \n",
      "  inflating: Practical_DL-spring20/seminar06-style-transfer/images/shanghai.jpg  \n",
      "  inflating: Practical_DL-spring20/seminar06-style-transfer/images/starry_night.jpg  \n",
      "  inflating: Practical_DL-spring20/seminar06-style-transfer/images/the_scream.jpg  \n",
      "  inflating: Practical_DL-spring20/seminar06-style-transfer/images/the_shipwreck_of_the_minotaur.jpg  \n",
      "  inflating: Practical_DL-spring20/seminar06-style-transfer/images/udnie.jpg  \n",
      "  inflating: Practical_DL-spring20/seminar06-style-transfer/images/wave.jpg  \n",
      "  inflating: Practical_DL-spring20/seminar06-style-transfer/images/wave_1.jpg  \n",
      "  inflating: Practical_DL-spring20/seminar06-style-transfer/style_transfer_pytorch.ipynb  \n",
      "  inflating: Practical_DL-spring20/seminar06-style-transfer/style_transfer_theano.ipynb  \n",
      "   creating: Practical_DL-spring20/seminar08-generative/\n",
      "  inflating: Practical_DL-spring20/seminar08-generative/README.md  \n",
      "  inflating: Practical_DL-spring20/seminar08-generative/adversarial_pytorch.ipynb  \n",
      "  inflating: Practical_DL-spring20/seminar08-generative/adversarial_tf.ipynb  \n",
      "  inflating: Practical_DL-spring20/seminar08-generative/adversarial_theano.ipynb  \n",
      "   creating: Practical_DL-spring20/seminar08-generative/bonus_style_transfer/\n",
      "   creating: Practical_DL-spring20/seminar08-generative/bonus_style_transfer/images/\n",
      "  inflating: Practical_DL-spring20/seminar08-generative/bonus_style_transfer/images/chicago.jpg  \n",
      "  inflating: Practical_DL-spring20/seminar08-generative/bonus_style_transfer/images/dancing.jpg  \n",
      "  inflating: Practical_DL-spring20/seminar08-generative/bonus_style_transfer/images/des_glaneuses.jpg  \n",
      "  inflating: Practical_DL-spring20/seminar08-generative/bonus_style_transfer/images/hohnsensee.jpg  \n",
      "  inflating: Practical_DL-spring20/seminar08-generative/bonus_style_transfer/images/hohnsensee2.jpg  \n",
      "  inflating: Practical_DL-spring20/seminar08-generative/bonus_style_transfer/images/kit01.jpg  \n",
      "  inflating: Practical_DL-spring20/seminar08-generative/bonus_style_transfer/images/la_muse.jpg  \n",
      "  inflating: Practical_DL-spring20/seminar08-generative/bonus_style_transfer/images/lizengsun.jpg  \n",
      "  inflating: Practical_DL-spring20/seminar08-generative/bonus_style_transfer/images/my_img.jpg  \n",
      "  inflating: Practical_DL-spring20/seminar08-generative/bonus_style_transfer/images/picasso.jpg  \n",
      "  inflating: Practical_DL-spring20/seminar08-generative/bonus_style_transfer/images/rain_princess.jpg  \n",
      "  inflating: Practical_DL-spring20/seminar08-generative/bonus_style_transfer/images/shanghai.jpg  \n",
      "  inflating: Practical_DL-spring20/seminar08-generative/bonus_style_transfer/images/starry_night.jpg  \n",
      "  inflating: Practical_DL-spring20/seminar08-generative/bonus_style_transfer/images/the_scream.jpg  \n",
      "  inflating: Practical_DL-spring20/seminar08-generative/bonus_style_transfer/images/the_shipwreck_of_the_minotaur.jpg  \n",
      "  inflating: Practical_DL-spring20/seminar08-generative/bonus_style_transfer/images/udnie.jpg  \n",
      "  inflating: Practical_DL-spring20/seminar08-generative/bonus_style_transfer/images/wave.jpg  \n",
      "  inflating: Practical_DL-spring20/seminar08-generative/bonus_style_transfer/images/wave_1.jpg  \n",
      "  inflating: Practical_DL-spring20/seminar08-generative/bonus_style_transfer/style_transfer_pytorch.ipynb  \n",
      "  inflating: Practical_DL-spring20/seminar08-generative/bonus_style_transfer/style_transfer_theano.ipynb  \n",
      "  inflating: Practical_DL-spring20/seminar08-generative/lfw_dataset.py  \n",
      "  inflating: Practical_DL-spring20/seminar08-generative/normalizing_flows.ipynb  \n",
      "  inflating: Practical_DL-spring20/seminar08-generative/simple_1d_gan_pytorch.ipynb  \n",
      "mv: cannot move 'Practical_DL-spring20/seminar06-style-transfer/images' to './images': Directory not empty\n",
      "--2020-04-12 08:33:35--  http://cdn.cnn.com/cnnnext/dam/assets/170809210024-trump-nk.jpg\n",
      "Resolving cdn.cnn.com (cdn.cnn.com)... 23.54.9.213, 2a02:26f0:18:480::3134, 2a02:26f0:18:49c::3134\n",
      "Connecting to cdn.cnn.com (cdn.cnn.com)|23.54.9.213|:80... connected.\n",
      "HTTP request sent, awaiting response... 200 OK\n",
      "Length: 1230999 (1.2M) [image/jpeg]\n",
      "Saving to: ‘images/my_img.jpg’\n",
      "\n",
      "images/my_img.jpg   100%[===================>]   1.17M  --.-KB/s    in 0.1s    \n",
      "\n",
      "2020-04-12 08:33:35 (9.50 MB/s) - ‘images/my_img.jpg’ saved [1230999/1230999]\n",
      "\n"
     ]
    }
   ],
   "source": [
    "!rm Practical_DL* -rf && wget https://github.com/yandexdataschool/Practical_DL/archive/spring20.zip && unzip spring20.zip && mv */seminar06-style-transfer/images .\n",
    "style_img = image_loader(\"images/wave.jpg\").type(dtype)\n",
    "\n",
    "!wget http://cdn.cnn.com/cnnnext/dam/assets/170809210024-trump-nk.jpg -O images/my_img.jpg\n",
    "content_img = image_loader(\"images/my_img.jpg\").type(dtype)\n",
    "\n",
    "assert style_img.size() == content_img.size(), \\\n",
    "    \"we need to import style and content images of the same size\""
   ]
  },
  {
   "cell_type": "code",
   "execution_count": null,
   "metadata": {
    "colab": {},
    "colab_type": "code",
    "id": "G2vUr26oVdEX"
   },
   "outputs": [],
   "source": [
    "def imshow(tensor, title=None):\n",
    "    image = tensor.clone().cpu()  # we clone the tensor to not do changes on it\n",
    "    image = image.view(3, imsize, imsize)  # remove the fake batch dimension\n",
    "    image = image.numpy().transpose([1,2,0])\n",
    "    plt.imshow(image / np.max(image))\n",
    "    if title is not None:\n",
    "        plt.title(title)\n",
    "\n",
    "plt.figure(figsize=[12,6])\n",
    "plt.subplot(1,2,1)\n",
    "imshow(style_img.data, title='Style Image')\n",
    "plt.subplot(1,2,2)\n",
    "imshow(content_img.data, title='Content Image')"
   ]
  },
  {
   "cell_type": "markdown",
   "metadata": {
    "colab_type": "text",
    "id": "g9eUhLrpVdEo"
   },
   "source": [
    "### Лосс функции"
   ]
  },
  {
   "cell_type": "code",
   "execution_count": null,
   "metadata": {
    "colab": {},
    "colab_type": "code",
    "id": "2_SOvPRZVdEs"
   },
   "outputs": [
    {
     "name": "stderr",
     "output_type": "stream",
     "text": [
      "Downloading: \"https://download.pytorch.org/models/vgg19-dcbb9e9d.pth\" to /root/.cache/torch/checkpoints/vgg19-dcbb9e9d.pth\n",
      " 42%|████▏     | 228M/548M [01:22<04:32, 1.23MB/s] "
     ]
    }
   ],
   "source": [
    "import torchvision.models as models\n",
    "\n",
    "cnn = models.vgg19(pretrained=True).features\n",
    "\n",
    "# move it to the GPU if possible:\n",
    "if use_cuda:\n",
    "    cnn = cnn.cuda()"
   ]
  },
  {
   "cell_type": "code",
   "execution_count": null,
   "metadata": {
    "colab": {},
    "colab_type": "code",
    "id": "ityNinPtVdE6"
   },
   "outputs": [],
   "source": [
    "class ContentLoss(nn.Module):\n",
    "\n",
    "    def __init__(self, target, weight):\n",
    "        super(ContentLoss, self).__init__()\n",
    "        # we 'detach' the target content from the tree used\n",
    "        self.target = target.detach() * weight\n",
    "        self.weight = weight\n",
    "\n",
    "    def forward(self, input):\n",
    "        self.loss = F.mse_loss(input * self.weight, self.target)\n",
    "        return input.clone()\n",
    "\n",
    "    def backward(self, retain_graph=True):\n",
    "        self.loss.backward(retain_graph=retain_graph)\n",
    "        return self.loss"
   ]
  },
  {
   "cell_type": "code",
   "execution_count": null,
   "metadata": {
    "colab": {},
    "colab_type": "code",
    "id": "v8ilRY_8VdFG"
   },
   "outputs": [],
   "source": [
    "def gram_matrix(input):\n",
    "    a, b, c, d = input.size()  # a=batch size(=1)\n",
    "    # b=number of feature maps\n",
    "    # (c,d)=dimensions of a f. map (N=c*d)\n",
    "\n",
    "    features = input.view(a * b, c * d)  # resise F_XL into \\hat F_XL\n",
    "\n",
    "    G = torch.mm(features, features.t())  # compute the gram product\n",
    "\n",
    "    # we 'normalize' the values of the gram matrix\n",
    "    # by dividing by the number of element in each feature maps.\n",
    "    return G.div(a * b * c * d)\n",
    "    \n",
    "class StyleLoss(nn.Module):\n",
    "\n",
    "    def __init__(self, target, weight):\n",
    "        super(StyleLoss, self).__init__()\n",
    "        self.target = target.detach() * weight\n",
    "        self.weight = weight\n",
    "\n",
    "    def forward(self, input):\n",
    "        self.G = gram_matrix(input)\n",
    "        self.G.mul_(self.weight)\n",
    "        self.loss = F.mse_loss(self.G, self.target)\n",
    "        return input.clone()\n",
    "\n",
    "    def backward(self, retain_graph=True):\n",
    "        self.loss.backward(retain_graph=retain_graph)\n",
    "        return self.loss"
   ]
  },
  {
   "cell_type": "markdown",
   "metadata": {
    "colab_type": "text",
    "id": "YSmXzF0pVdFR"
   },
   "source": [
    "### Общий пайплайн\n"
   ]
  },
  {
   "cell_type": "code",
   "execution_count": null,
   "metadata": {
    "colab": {},
    "colab_type": "code",
    "id": "OV8FzGTrVdFW"
   },
   "outputs": [],
   "source": [
    "content_weight = 1            # coefficient for content loss\n",
    "style_weight = 1000           # coefficient for style loss\n",
    "content_layers = ('conv_4',)  # use these layers for content loss\n",
    "style_layers = ('conv_1', 'conv_2', 'conv_3', 'conv_4', 'conv_5') # use these layers for style loss\n"
   ]
  },
  {
   "cell_type": "code",
   "execution_count": null,
   "metadata": {
    "colab": {},
    "colab_type": "code",
    "id": "NWMabOdBVdFl"
   },
   "outputs": [],
   "source": [
    "content_losses = []\n",
    "style_losses = []\n",
    "\n",
    "model = nn.Sequential()  # the new Sequential module network\n",
    "# move these modules to the GPU if possible:\n",
    "if use_cuda:\n",
    "    model = model.cuda()\n",
    "\n",
    "i = 1\n",
    "for layer in list(cnn):\n",
    "    if isinstance(layer, nn.Conv2d):\n",
    "        name = \"conv_\" + str(i)\n",
    "        model.add_module(name, layer)\n",
    "\n",
    "        if name in content_layers:\n",
    "            # add content loss:\n",
    "            target = model(content_img).clone()\n",
    "            content_loss = ContentLoss(target, content_weight)\n",
    "            model.add_module(\"content_loss_\" + str(i), content_loss)\n",
    "            content_losses.append(content_loss)\n",
    "\n",
    "        if name in style_layers:\n",
    "            # add style loss:\n",
    "            target_feature = model(style_img).clone()\n",
    "            target_feature_gram = gram_matrix(target_feature)\n",
    "            style_loss = StyleLoss(target_feature_gram, style_weight)\n",
    "            model.add_module(\"style_loss_\" + str(i), style_loss)\n",
    "            style_losses.append(style_loss)\n",
    "\n",
    "    if isinstance(layer, nn.ReLU):\n",
    "        name = \"relu_\" + str(i)\n",
    "        model.add_module(name, layer)\n",
    "\n",
    "        if name in content_layers:\n",
    "            # add content loss:\n",
    "            target = model(content_img).clone()\n",
    "            content_loss = ContentLoss(target, content_weight)\n",
    "            model.add_module(\"content_loss_\" + str(i), content_loss)\n",
    "            content_losses.append(content_loss)\n",
    "\n",
    "        if name in style_layers:\n",
    "            # add style loss:\n",
    "            target_feature = model(style_img).clone()\n",
    "            target_feature_gram = gram_matrix(target_feature)\n",
    "            style_loss = StyleLoss(target_feature_gram, style_weight)\n",
    "            model.add_module(\"style_loss_\" + str(i), style_loss)\n",
    "            style_losses.append(style_loss)\n",
    "\n",
    "        i += 1\n",
    "\n",
    "    if isinstance(layer, nn.MaxPool2d):\n",
    "        name = \"pool_\" + str(i)\n",
    "        model.add_module(name, layer)  # ***"
   ]
  },
  {
   "cell_type": "markdown",
   "metadata": {
    "colab_type": "text",
    "id": "DU8nQ8AXVdF4"
   },
   "source": [
    "### Оптимизация\n",
    "\n"
   ]
  },
  {
   "cell_type": "code",
   "execution_count": null,
   "metadata": {
    "colab": {},
    "colab_type": "code",
    "id": "flkw9uf_VdF8"
   },
   "outputs": [],
   "source": [
    "input_image = Variable(content_img.clone().data, requires_grad=True)\n",
    "optimizer = torch.optim.LBFGS([input_image])"
   ]
  },
  {
   "cell_type": "code",
   "execution_count": null,
   "metadata": {
    "colab": {},
    "colab_type": "code",
    "id": "x4h1qaZQVdGG"
   },
   "outputs": [],
   "source": [
    "num_steps = 300\n",
    "\n",
    "for i in range(num_steps):\n",
    "    # correct the values of updated input image\n",
    "    input_image.data.clamp_(0, 1)\n",
    "\n",
    "    model(input_image)\n",
    "    style_score = 0\n",
    "    content_score = 0\n",
    "    for sl in style_losses:\n",
    "        style_score += sl.backward()\n",
    "    for cl in content_losses:\n",
    "        content_score += cl.backward()\n",
    "        \n",
    "    if i % 10 == 0:  # <--- adjust the value to see updates more frequently\n",
    "        \n",
    "        print('Step # {} Style Loss : {:4f} Content Loss: {:4f}'.format(\n",
    "            i, style_score.item(), content_score.item()))\n",
    "        plt.figure(figsize=[10,10])\n",
    "        imshow(input_image.data)\n",
    "        plt.show()\n",
    "        \n",
    "    loss = style_score + content_score\n",
    "    \n",
    "    optimizer.step(lambda:loss)\n",
    "    optimizer.zero_grad()\n",
    "    \n",
    "# a last correction...\n",
    "input_image.data.clamp_(0, 1)"
   ]
  },
  {
   "cell_type": "markdown",
   "metadata": {
    "colab_type": "text",
    "id": "lLuj8OBJVdGR"
   },
   "source": [
    "### Итоговое изображение"
   ]
  },
  {
   "cell_type": "code",
   "execution_count": null,
   "metadata": {
    "colab": {},
    "colab_type": "code",
    "id": "EqC_yYeWVdGU"
   },
   "outputs": [],
   "source": [
    "plt.figure(figsize=[10,10])\n",
    "plt.imshow(input_image.cpu().data.numpy()[0].transpose(1, 2, 0))\n",
    "plt.show()"
   ]
  },
  {
   "cell_type": "code",
   "execution_count": null,
   "metadata": {},
   "outputs": [],
   "source": []
  }
 ],
 "metadata": {
  "accelerator": "GPU",
  "colab": {
   "name": "style_transfer_pytorch.ipynb",
   "provenance": []
  },
  "kernelspec": {
   "display_name": "Python 3",
   "language": "python",
   "name": "python3"
  },
  "language_info": {
   "codemirror_mode": {
    "name": "ipython",
    "version": 3
   },
   "file_extension": ".py",
   "mimetype": "text/x-python",
   "name": "python",
   "nbconvert_exporter": "python",
   "pygments_lexer": "ipython3",
   "version": "3.6.9"
  }
 },
 "nbformat": 4,
 "nbformat_minor": 4
}
