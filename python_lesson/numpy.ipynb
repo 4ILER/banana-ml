{
 "cells": [
  {
   "cell_type": "code",
   "execution_count": 1,
   "metadata": {
    "ExecuteTime": {
     "end_time": "2019-12-19T13:19:33.886289Z",
     "start_time": "2019-12-19T13:19:33.877546Z"
    }
   },
   "outputs": [],
   "source": [
    "import numpy as np"
   ]
  },
  {
   "cell_type": "markdown",
   "metadata": {},
   "source": [
    "# Аттрибуты:"
   ]
  },
  {
   "cell_type": "code",
   "execution_count": 2,
   "metadata": {
    "ExecuteTime": {
     "end_time": "2019-12-19T13:19:34.184774Z",
     "start_time": "2019-12-19T13:19:34.168116Z"
    }
   },
   "outputs": [
    {
     "data": {
      "text/plain": [
       "array([1, 2, 3])"
      ]
     },
     "execution_count": 2,
     "metadata": {},
     "output_type": "execute_result"
    }
   ],
   "source": [
    "A = np.array([1, 2, 3])\n",
    "A"
   ]
  },
  {
   "cell_type": "code",
   "execution_count": 3,
   "metadata": {
    "ExecuteTime": {
     "end_time": "2019-12-19T13:19:34.310685Z",
     "start_time": "2019-12-19T13:19:34.302739Z"
    }
   },
   "outputs": [
    {
     "data": {
      "text/plain": [
       "numpy.ndarray"
      ]
     },
     "execution_count": 3,
     "metadata": {},
     "output_type": "execute_result"
    }
   ],
   "source": [
    "type(A)"
   ]
  },
  {
   "cell_type": "code",
   "execution_count": 4,
   "metadata": {
    "ExecuteTime": {
     "end_time": "2019-12-19T13:19:34.440445Z",
     "start_time": "2019-12-19T13:19:34.431075Z"
    }
   },
   "outputs": [
    {
     "data": {
      "text/plain": [
       "(3,)"
      ]
     },
     "execution_count": 4,
     "metadata": {},
     "output_type": "execute_result"
    }
   ],
   "source": [
    "A.shape"
   ]
  },
  {
   "cell_type": "code",
   "execution_count": 5,
   "metadata": {
    "ExecuteTime": {
     "end_time": "2019-12-19T13:19:34.576935Z",
     "start_time": "2019-12-19T13:19:34.568906Z"
    }
   },
   "outputs": [
    {
     "data": {
      "text/plain": [
       "3"
      ]
     },
     "execution_count": 5,
     "metadata": {},
     "output_type": "execute_result"
    }
   ],
   "source": [
    "A.size"
   ]
  },
  {
   "cell_type": "code",
   "execution_count": 6,
   "metadata": {
    "ExecuteTime": {
     "end_time": "2019-12-19T13:19:34.723476Z",
     "start_time": "2019-12-19T13:19:34.712499Z"
    }
   },
   "outputs": [
    {
     "data": {
      "text/plain": [
       "dtype('int64')"
      ]
     },
     "execution_count": 6,
     "metadata": {},
     "output_type": "execute_result"
    }
   ],
   "source": [
    "A.dtype"
   ]
  },
  {
   "cell_type": "code",
   "execution_count": 7,
   "metadata": {
    "ExecuteTime": {
     "end_time": "2019-12-19T13:19:34.846037Z",
     "start_time": "2019-12-19T13:19:34.840615Z"
    }
   },
   "outputs": [
    {
     "data": {
      "text/plain": [
       "1"
      ]
     },
     "execution_count": 7,
     "metadata": {},
     "output_type": "execute_result"
    }
   ],
   "source": [
    "A.ndim"
   ]
  },
  {
   "cell_type": "code",
   "execution_count": 8,
   "metadata": {
    "ExecuteTime": {
     "end_time": "2019-12-19T13:19:35.163774Z",
     "start_time": "2019-12-19T13:19:35.156736Z"
    }
   },
   "outputs": [
    {
     "data": {
      "text/plain": [
       "8"
      ]
     },
     "execution_count": 8,
     "metadata": {},
     "output_type": "execute_result"
    }
   ],
   "source": [
    "A.itemsize"
   ]
  },
  {
   "cell_type": "code",
   "execution_count": 9,
   "metadata": {
    "ExecuteTime": {
     "end_time": "2019-12-19T13:19:35.304214Z",
     "start_time": "2019-12-19T13:19:35.298817Z"
    }
   },
   "outputs": [
    {
     "data": {
      "text/plain": [
       "<memory at 0x7fc7d46f5348>"
      ]
     },
     "execution_count": 9,
     "metadata": {},
     "output_type": "execute_result"
    }
   ],
   "source": [
    "A.data"
   ]
  },
  {
   "cell_type": "markdown",
   "metadata": {},
   "source": [
    "# Создание ndarray:"
   ]
  },
  {
   "cell_type": "code",
   "execution_count": 10,
   "metadata": {
    "ExecuteTime": {
     "end_time": "2019-12-19T13:19:35.777860Z",
     "start_time": "2019-12-19T13:19:35.768081Z"
    }
   },
   "outputs": [
    {
     "data": {
      "text/plain": [
       "array([[1., 1., 1.],\n",
       "       [1., 1., 1.],\n",
       "       [1., 1., 1.]])"
      ]
     },
     "execution_count": 10,
     "metadata": {},
     "output_type": "execute_result"
    }
   ],
   "source": [
    "A = np.ones((3, 3,))\n",
    "A"
   ]
  },
  {
   "cell_type": "code",
   "execution_count": 11,
   "metadata": {
    "ExecuteTime": {
     "end_time": "2019-12-19T13:19:35.970297Z",
     "start_time": "2019-12-19T13:19:35.958462Z"
    }
   },
   "outputs": [
    {
     "data": {
      "text/plain": [
       "(2, 9, (3, 3), 8)"
      ]
     },
     "execution_count": 11,
     "metadata": {},
     "output_type": "execute_result"
    }
   ],
   "source": [
    "A.ndim, A.size, A.shape, A.itemsize"
   ]
  },
  {
   "cell_type": "markdown",
   "metadata": {},
   "source": [
    "функции `empty`, `zeros`,  `ones`, `full`, `random`, `arange` позволяют создать массивы, заполненные заранее определенными элементами:"
   ]
  },
  {
   "cell_type": "code",
   "execution_count": 12,
   "metadata": {
    "ExecuteTime": {
     "end_time": "2019-12-19T13:19:37.017448Z",
     "start_time": "2019-12-19T13:19:36.997290Z"
    }
   },
   "outputs": [],
   "source": [
    "??np.empty"
   ]
  },
  {
   "cell_type": "code",
   "execution_count": 13,
   "metadata": {
    "ExecuteTime": {
     "end_time": "2019-12-19T13:19:41.090021Z",
     "start_time": "2019-12-19T13:19:41.075499Z"
    }
   },
   "outputs": [
    {
     "data": {
      "text/plain": [
       "array([0., 2., 4., 6., 8.], dtype=float16)"
      ]
     },
     "execution_count": 13,
     "metadata": {},
     "output_type": "execute_result"
    }
   ],
   "source": [
    "A = np.arange(0, 10, 2, dtype=np.float16)\n",
    "A"
   ]
  },
  {
   "cell_type": "code",
   "execution_count": 14,
   "metadata": {
    "ExecuteTime": {
     "end_time": "2019-12-19T13:19:41.584705Z",
     "start_time": "2019-12-19T13:19:41.573864Z"
    }
   },
   "outputs": [
    {
     "data": {
      "text/plain": [
       "2"
      ]
     },
     "execution_count": 14,
     "metadata": {},
     "output_type": "execute_result"
    }
   ],
   "source": [
    "A.itemsize"
   ]
  },
  {
   "cell_type": "code",
   "execution_count": 15,
   "metadata": {
    "ExecuteTime": {
     "end_time": "2019-12-19T13:19:41.968279Z",
     "start_time": "2019-12-19T13:19:41.951311Z"
    }
   },
   "outputs": [
    {
     "data": {
      "text/plain": [
       "array([False, False,  True,  True,  True])"
      ]
     },
     "execution_count": 15,
     "metadata": {},
     "output_type": "execute_result"
    }
   ],
   "source": [
    "B = A > 3\n",
    "B"
   ]
  },
  {
   "cell_type": "code",
   "execution_count": 16,
   "metadata": {
    "ExecuteTime": {
     "end_time": "2019-12-19T13:19:42.253642Z",
     "start_time": "2019-12-19T13:19:42.247404Z"
    }
   },
   "outputs": [
    {
     "data": {
      "text/plain": [
       "dtype('bool')"
      ]
     },
     "execution_count": 16,
     "metadata": {},
     "output_type": "execute_result"
    }
   ],
   "source": [
    "B.dtype"
   ]
  },
  {
   "cell_type": "markdown",
   "metadata": {},
   "source": [
    "Задания: \n",
    "* создать массив из списка разных типов (строк, списков, кортежей)\n",
    "* посмотреть на все аттрибуты\n",
    "* создать еще что-нибудь"
   ]
  },
  {
   "cell_type": "markdown",
   "metadata": {},
   "source": [
    "# Индексация\n",
    "numpy поддерживает такую же индексацию как у листов"
   ]
  },
  {
   "cell_type": "code",
   "execution_count": 17,
   "metadata": {
    "ExecuteTime": {
     "end_time": "2019-12-19T13:19:43.509230Z",
     "start_time": "2019-12-19T13:19:43.497271Z"
    }
   },
   "outputs": [
    {
     "data": {
      "text/plain": [
       "array([0.33163234, 0.23555143, 0.00625945, 0.88605592, 0.88167664])"
      ]
     },
     "execution_count": 17,
     "metadata": {},
     "output_type": "execute_result"
    }
   ],
   "source": [
    "A = np.random.random((5))\n",
    "A"
   ]
  },
  {
   "cell_type": "code",
   "execution_count": 18,
   "metadata": {
    "ExecuteTime": {
     "end_time": "2019-12-19T13:19:43.894439Z",
     "start_time": "2019-12-19T13:19:43.885705Z"
    }
   },
   "outputs": [
    {
     "data": {
      "text/plain": [
       "0.881676637164945"
      ]
     },
     "execution_count": 18,
     "metadata": {},
     "output_type": "execute_result"
    }
   ],
   "source": [
    "A[-1]"
   ]
  },
  {
   "cell_type": "code",
   "execution_count": 19,
   "metadata": {
    "ExecuteTime": {
     "end_time": "2019-12-19T13:19:44.077428Z",
     "start_time": "2019-12-19T13:19:44.071924Z"
    }
   },
   "outputs": [
    {
     "data": {
      "text/plain": [
       "array([0.23555143, 0.00625945])"
      ]
     },
     "execution_count": 19,
     "metadata": {},
     "output_type": "execute_result"
    }
   ],
   "source": [
    "A[1:3]"
   ]
  },
  {
   "cell_type": "code",
   "execution_count": 20,
   "metadata": {
    "ExecuteTime": {
     "end_time": "2019-12-19T13:19:44.509044Z",
     "start_time": "2019-12-19T13:19:44.503660Z"
    }
   },
   "outputs": [
    {
     "data": {
      "text/plain": [
       "array([0.33163234, 0.00625945, 0.88167664])"
      ]
     },
     "execution_count": 20,
     "metadata": {},
     "output_type": "execute_result"
    }
   ],
   "source": [
    "A[::2]"
   ]
  },
  {
   "cell_type": "markdown",
   "metadata": {},
   "source": [
    "индексация ndarray умеет много вещей, с которыми list не справляется:"
   ]
  },
  {
   "cell_type": "code",
   "execution_count": 21,
   "metadata": {
    "ExecuteTime": {
     "end_time": "2019-12-19T13:19:46.683280Z",
     "start_time": "2019-12-19T13:19:46.665608Z"
    }
   },
   "outputs": [
    {
     "data": {
      "text/plain": [
       "array([0.23555143, 0.88167664])"
      ]
     },
     "execution_count": 21,
     "metadata": {},
     "output_type": "execute_result"
    }
   ],
   "source": [
    "# индексация списком\n",
    "A[[1, -1]]"
   ]
  },
  {
   "cell_type": "code",
   "execution_count": 22,
   "metadata": {
    "ExecuteTime": {
     "end_time": "2019-12-19T13:19:46.974505Z",
     "start_time": "2019-12-19T13:19:46.965530Z"
    }
   },
   "outputs": [
    {
     "data": {
      "text/plain": [
       "array([0.33163234, 0.23555143])"
      ]
     },
     "execution_count": 22,
     "metadata": {},
     "output_type": "execute_result"
    }
   ],
   "source": [
    "# индексация булевым списком (шейп должен совпадать с шейпом самого массива)\n",
    "A[[True, True, False, False, False]]"
   ]
  },
  {
   "cell_type": "code",
   "execution_count": 23,
   "metadata": {
    "ExecuteTime": {
     "end_time": "2019-12-19T13:19:47.140286Z",
     "start_time": "2019-12-19T13:19:47.130986Z"
    }
   },
   "outputs": [
    {
     "data": {
      "text/plain": [
       "array([0.33163234, 0.23555143, 0.00625945])"
      ]
     },
     "execution_count": 23,
     "metadata": {},
     "output_type": "execute_result"
    }
   ],
   "source": [
    "A[A < 0.5]"
   ]
  },
  {
   "cell_type": "code",
   "execution_count": 24,
   "metadata": {
    "ExecuteTime": {
     "end_time": "2019-12-19T13:19:47.669632Z",
     "start_time": "2019-12-19T13:19:47.662734Z"
    }
   },
   "outputs": [
    {
     "data": {
      "text/plain": [
       "array([0.        , 0.        , 0.        , 0.88605592, 0.88167664])"
      ]
     },
     "execution_count": 24,
     "metadata": {},
     "output_type": "execute_result"
    }
   ],
   "source": [
    "# inplace!\n",
    "A[A < 0.5] = 0\n",
    "A"
   ]
  },
  {
   "cell_type": "markdown",
   "metadata": {},
   "source": [
    "Задания:\n",
    "* заменить все нечетные числа в массиве на None (для создания можно использовать np.random.randint)\n",
    "* напечатать массив в обратном порядке"
   ]
  },
  {
   "cell_type": "markdown",
   "metadata": {},
   "source": [
    "## Индексация n-мерных массивов:"
   ]
  },
  {
   "cell_type": "code",
   "execution_count": 25,
   "metadata": {
    "ExecuteTime": {
     "end_time": "2019-12-19T13:19:50.950214Z",
     "start_time": "2019-12-19T13:19:50.921007Z"
    }
   },
   "outputs": [
    {
     "data": {
      "text/plain": [
       "array([[1., 0., 0., 0., 0.],\n",
       "       [0., 1., 0., 0., 0.],\n",
       "       [0., 0., 1., 0., 0.],\n",
       "       [0., 0., 0., 1., 0.],\n",
       "       [0., 0., 0., 0., 1.]])"
      ]
     },
     "execution_count": 25,
     "metadata": {},
     "output_type": "execute_result"
    }
   ],
   "source": [
    "A = np.eye(5)\n",
    "A"
   ]
  },
  {
   "cell_type": "code",
   "execution_count": 26,
   "metadata": {
    "ExecuteTime": {
     "end_time": "2019-12-19T13:19:51.080063Z",
     "start_time": "2019-12-19T13:19:51.075261Z"
    }
   },
   "outputs": [
    {
     "data": {
      "text/plain": [
       "array([1., 0., 0., 0., 0.])"
      ]
     },
     "execution_count": 26,
     "metadata": {},
     "output_type": "execute_result"
    }
   ],
   "source": [
    "A[:, 0]"
   ]
  },
  {
   "cell_type": "code",
   "execution_count": 27,
   "metadata": {
    "ExecuteTime": {
     "end_time": "2019-12-19T13:19:51.233592Z",
     "start_time": "2019-12-19T13:19:51.227374Z"
    }
   },
   "outputs": [
    {
     "data": {
      "text/plain": [
       "array([[1., 0., 0., 0., 0.],\n",
       "       [0., 1., 0., 0., 0.],\n",
       "       [0., 0., 1., 0., 0.],\n",
       "       [0., 0., 0., 1., 0.],\n",
       "       [0., 0., 0., 0., 1.]])"
      ]
     },
     "execution_count": 27,
     "metadata": {},
     "output_type": "execute_result"
    }
   ],
   "source": [
    "A[:, [0, 1, 2, 3, 4]]"
   ]
  },
  {
   "cell_type": "code",
   "execution_count": 28,
   "metadata": {
    "ExecuteTime": {
     "end_time": "2019-12-19T13:19:51.391040Z",
     "start_time": "2019-12-19T13:19:51.383342Z"
    }
   },
   "outputs": [
    {
     "data": {
      "text/plain": [
       "array([[0., 0., 0., 0., 1.],\n",
       "       [0., 1., 0., 0., 0.],\n",
       "       [0., 0., 1., 0., 0.],\n",
       "       [0., 0., 0., 1., 0.],\n",
       "       [1., 0., 0., 0., 0.]])"
      ]
     },
     "execution_count": 28,
     "metadata": {},
     "output_type": "execute_result"
    }
   ],
   "source": [
    "# поменять столбцы местами:\n",
    "A[:, [4, 1, 2, 3, 0]]"
   ]
  },
  {
   "cell_type": "code",
   "execution_count": 29,
   "metadata": {
    "ExecuteTime": {
     "end_time": "2019-12-19T13:19:52.978341Z",
     "start_time": "2019-12-19T13:19:52.965324Z"
    }
   },
   "outputs": [
    {
     "data": {
      "text/plain": [
       "array([0., 0., 0., 0., 1.])"
      ]
     },
     "execution_count": 29,
     "metadata": {},
     "output_type": "execute_result"
    }
   ],
   "source": [
    "A[..., -1]"
   ]
  },
  {
   "cell_type": "code",
   "execution_count": 30,
   "metadata": {
    "ExecuteTime": {
     "end_time": "2019-12-19T13:19:53.111100Z",
     "start_time": "2019-12-19T13:19:53.105198Z"
    }
   },
   "outputs": [
    {
     "data": {
      "text/plain": [
       "array([[ True, False, False, False, False],\n",
       "       [False,  True, False, False, False],\n",
       "       [False, False,  True, False, False],\n",
       "       [False, False, False,  True, False],\n",
       "       [False, False, False, False,  True]])"
      ]
     },
     "execution_count": 30,
     "metadata": {},
     "output_type": "execute_result"
    }
   ],
   "source": [
    "A == 1"
   ]
  },
  {
   "cell_type": "code",
   "execution_count": 31,
   "metadata": {
    "ExecuteTime": {
     "end_time": "2019-12-19T13:19:53.980485Z",
     "start_time": "2019-12-19T13:19:53.963322Z"
    }
   },
   "outputs": [
    {
     "data": {
      "text/plain": [
       "array([1., 1., 1., 1., 1.])"
      ]
     },
     "execution_count": 31,
     "metadata": {},
     "output_type": "execute_result"
    }
   ],
   "source": [
    "A[A == 1]"
   ]
  },
  {
   "cell_type": "markdown",
   "metadata": {},
   "source": [
    "Задания:\n",
    "* создать массив из случайных значений из промежутка 0, 10, и заменить все значения из промежутка (3, 7) на None\n",
    "* one-hot encoding: для заданного массива integer значений написать функцию, которая преобразует каждое из них в one-hot вектор (число i преобразуется в вектор, на i месте которого стоит 1, а на всех остальных нолики)"
   ]
  },
  {
   "cell_type": "code",
   "execution_count": null,
   "metadata": {
    "ExecuteTime": {
     "end_time": "2019-12-19T11:59:42.337461Z",
     "start_time": "2019-12-19T11:59:42.314748Z"
    }
   },
   "outputs": [],
   "source": [
    "lst = np.random.randint(0, high=10, size=(10))\n",
    "def one_hot(lst):\n",
    "    ### YOUR CODE IN HERE"
   ]
  },
  {
   "cell_type": "code",
   "execution_count": null,
   "metadata": {
    "ExecuteTime": {
     "end_time": "2019-12-19T11:59:42.337461Z",
     "start_time": "2019-12-19T11:59:42.314748Z"
    }
   },
   "outputs": [],
   "source": [
    "_ = one_hot(lst)"
   ]
  },
  {
   "cell_type": "markdown",
   "metadata": {},
   "source": [
    "# Magic time!\n",
    "* %time позволяет засечь время выполнения строки\n",
    "* %%time позволяет засечь время выполнения одной ячейки\n",
    "* %%timeit многократно повторяет одну ячейку и выдает статистику по времени запуска\n",
    "* %%prun -- профилировщик кода"
   ]
  },
  {
   "cell_type": "markdown",
   "metadata": {},
   "source": [
    "# Re-shape\n",
    "функции/методы `ravel` и `reshape` позволяют изменить форму хранения данных, не трогая при этом сами данные\n"
   ]
  },
  {
   "cell_type": "code",
   "execution_count": 32,
   "metadata": {
    "ExecuteTime": {
     "end_time": "2019-12-19T13:19:58.592924Z",
     "start_time": "2019-12-19T13:19:58.570390Z"
    }
   },
   "outputs": [
    {
     "data": {
      "text/plain": [
       "array([ 0,  1,  2,  3,  4,  5,  6,  7,  8,  9, 10, 11, 12, 13, 14, 15, 16,\n",
       "       17, 18, 19, 20, 21, 22, 23])"
      ]
     },
     "execution_count": 32,
     "metadata": {},
     "output_type": "execute_result"
    }
   ],
   "source": [
    "A = np.arange(0, 24)\n",
    "A"
   ]
  },
  {
   "cell_type": "code",
   "execution_count": 33,
   "metadata": {
    "ExecuteTime": {
     "end_time": "2019-12-19T13:19:58.751912Z",
     "start_time": "2019-12-19T13:19:58.741303Z"
    }
   },
   "outputs": [
    {
     "data": {
      "text/plain": [
       "array([[[ 0,  1],\n",
       "        [ 2,  3],\n",
       "        [ 4,  5]],\n",
       "\n",
       "       [[ 6,  7],\n",
       "        [ 8,  9],\n",
       "        [10, 11]],\n",
       "\n",
       "       [[12, 13],\n",
       "        [14, 15],\n",
       "        [16, 17]],\n",
       "\n",
       "       [[18, 19],\n",
       "        [20, 21],\n",
       "        [22, 23]]])"
      ]
     },
     "execution_count": 33,
     "metadata": {},
     "output_type": "execute_result"
    }
   ],
   "source": [
    "reshaped = A.reshape(4, 3, 2)\n",
    "reshaped"
   ]
  },
  {
   "cell_type": "code",
   "execution_count": 34,
   "metadata": {
    "ExecuteTime": {
     "end_time": "2019-12-19T13:19:58.898429Z",
     "start_time": "2019-12-19T13:19:58.893931Z"
    }
   },
   "outputs": [
    {
     "data": {
      "text/plain": [
       "array([ 0,  1,  2,  3,  4,  5,  6,  7,  8,  9, 10, 11, 12, 13, 14, 15, 16,\n",
       "       17, 18, 19, 20, 21, 22, 23])"
      ]
     },
     "execution_count": 34,
     "metadata": {},
     "output_type": "execute_result"
    }
   ],
   "source": [
    "A.reshape(-1, 3, 2)\n",
    "A"
   ]
  },
  {
   "cell_type": "code",
   "execution_count": 35,
   "metadata": {
    "ExecuteTime": {
     "end_time": "2019-12-19T13:19:59.075265Z",
     "start_time": "2019-12-19T13:19:59.066070Z"
    }
   },
   "outputs": [
    {
     "data": {
      "text/plain": [
       "array([ 0,  1,  2,  3,  4,  5,  6,  7,  8,  9, 10, 11, 12, 13, 14, 15, 16,\n",
       "       17, 18, 19, 20, 21, 22, 23])"
      ]
     },
     "execution_count": 35,
     "metadata": {},
     "output_type": "execute_result"
    }
   ],
   "source": [
    "reshaped.ravel()"
   ]
  },
  {
   "cell_type": "code",
   "execution_count": 36,
   "metadata": {
    "ExecuteTime": {
     "end_time": "2019-12-19T13:19:59.228340Z",
     "start_time": "2019-12-19T13:19:59.221593Z"
    }
   },
   "outputs": [
    {
     "data": {
      "text/plain": [
       "array([ 0,  1,  2,  3,  4,  5,  6,  7,  8,  9, 10, 11, 12, 13, 14, 15, 16,\n",
       "       17, 18, 19, 20, 21, 22, 23])"
      ]
     },
     "execution_count": 36,
     "metadata": {},
     "output_type": "execute_result"
    }
   ],
   "source": [
    "reshaped.reshape(-1)"
   ]
  },
  {
   "cell_type": "markdown",
   "metadata": {},
   "source": [
    "Задания:\n",
    "* создать массив данных, где первая строчка -- [0, 100, 200], а каждая следующая получена прибавлением к предыдущей строчке 300, т.е. следующая строка [300, 400, 500], дальше [600, 700, 800], и т.д. Всего N строк."
   ]
  },
  {
   "cell_type": "markdown",
   "metadata": {},
   "source": [
    "# Методы\n",
    "у ndarray много методов: min, max, mean, argsort...\n",
    "многие из них принимают аргумент axis: по какой из осей применить преобразование"
   ]
  },
  {
   "cell_type": "code",
   "execution_count": 37,
   "metadata": {
    "ExecuteTime": {
     "end_time": "2019-12-19T13:19:59.761305Z",
     "start_time": "2019-12-19T13:19:59.753203Z"
    }
   },
   "outputs": [
    {
     "data": {
      "text/plain": [
       "array([[6, 6, 5, 6, 3, 5, 9, 9],\n",
       "       [2, 6, 3, 4, 1, 6, 9, 3],\n",
       "       [2, 4, 4, 5, 3, 3, 0, 3],\n",
       "       [0, 1, 1, 8, 4, 4, 0, 1],\n",
       "       [1, 3, 9, 2, 0, 3, 0, 3]])"
      ]
     },
     "execution_count": 37,
     "metadata": {},
     "output_type": "execute_result"
    }
   ],
   "source": [
    "A = np.random.randint(0, 10, (5, 8))\n",
    "A"
   ]
  },
  {
   "cell_type": "code",
   "execution_count": 38,
   "metadata": {
    "ExecuteTime": {
     "end_time": "2019-12-19T13:19:59.888420Z",
     "start_time": "2019-12-19T13:19:59.883836Z"
    }
   },
   "outputs": [
    {
     "data": {
      "text/plain": [
       "147"
      ]
     },
     "execution_count": 38,
     "metadata": {},
     "output_type": "execute_result"
    }
   ],
   "source": [
    "A.sum()"
   ]
  },
  {
   "cell_type": "code",
   "execution_count": 39,
   "metadata": {
    "ExecuteTime": {
     "end_time": "2019-12-19T13:20:00.061867Z",
     "start_time": "2019-12-19T13:20:00.051922Z"
    }
   },
   "outputs": [
    {
     "data": {
      "text/plain": [
       "array([11, 20, 22, 25, 11, 21, 18, 19])"
      ]
     },
     "execution_count": 39,
     "metadata": {},
     "output_type": "execute_result"
    }
   ],
   "source": [
    "A.sum(axis=0)"
   ]
  },
  {
   "cell_type": "code",
   "execution_count": 40,
   "metadata": {
    "ExecuteTime": {
     "end_time": "2019-12-19T13:20:00.230441Z",
     "start_time": "2019-12-19T13:20:00.218324Z"
    }
   },
   "outputs": [
    {
     "data": {
      "text/plain": [
       "array([49, 34, 24, 19, 21])"
      ]
     },
     "execution_count": 40,
     "metadata": {},
     "output_type": "execute_result"
    }
   ],
   "source": [
    "A.sum(axis=1)"
   ]
  },
  {
   "cell_type": "code",
   "execution_count": 41,
   "metadata": {
    "ExecuteTime": {
     "end_time": "2019-12-19T13:20:00.389140Z",
     "start_time": "2019-12-19T13:20:00.375938Z"
    }
   },
   "outputs": [
    {
     "data": {
      "text/plain": [
       "array([[4, 2, 5, 0, 1, 3, 6, 7],\n",
       "       [4, 0, 2, 7, 3, 1, 5, 6],\n",
       "       [6, 0, 4, 5, 7, 1, 2, 3],\n",
       "       [0, 6, 1, 2, 7, 4, 5, 3],\n",
       "       [4, 6, 0, 3, 1, 5, 7, 2]])"
      ]
     },
     "execution_count": 41,
     "metadata": {},
     "output_type": "execute_result"
    }
   ],
   "source": [
    "A.argsort()"
   ]
  },
  {
   "cell_type": "code",
   "execution_count": 42,
   "metadata": {
    "ExecuteTime": {
     "end_time": "2019-12-19T13:20:00.586565Z",
     "start_time": "2019-12-19T13:20:00.581700Z"
    }
   },
   "outputs": [
    {
     "data": {
      "text/plain": [
       "array([[4, 2, 5, 0, 1, 3, 6, 7],\n",
       "       [4, 0, 2, 7, 3, 1, 5, 6],\n",
       "       [6, 0, 4, 5, 7, 1, 2, 3],\n",
       "       [0, 6, 1, 2, 7, 4, 5, 3],\n",
       "       [4, 6, 0, 3, 1, 5, 7, 2]])"
      ]
     },
     "execution_count": 42,
     "metadata": {},
     "output_type": "execute_result"
    }
   ],
   "source": [
    "A.argsort()"
   ]
  },
  {
   "cell_type": "markdown",
   "metadata": {},
   "source": [
    "Задания:\n",
    "* отсортировать 2д массив по значениям в третьей колонке\n",
    "* вывести max/min значения по строкам; заменить все элементы, равные минимуму, на -np.inf"
   ]
  },
  {
   "cell_type": "markdown",
   "metadata": {},
   "source": [
    "# Операции\n",
    "операторы `+, -, *, @, /` -- делают именно то, что обозначают\n",
    "\n",
    "функции `sin, cos, exp` -- поэлементные\n",
    "\n",
    "если нужны матричные функции -- `np.linalg`"
   ]
  },
  {
   "cell_type": "markdown",
   "metadata": {},
   "source": [
    "## broadcasting"
   ]
  },
  {
   "cell_type": "code",
   "execution_count": 43,
   "metadata": {
    "ExecuteTime": {
     "end_time": "2019-12-19T13:20:01.416131Z",
     "start_time": "2019-12-19T13:20:01.402727Z"
    }
   },
   "outputs": [
    {
     "data": {
      "text/plain": [
       "array([[0.02732452, 0.11037372],\n",
       "       [0.44067171, 0.68121525]])"
      ]
     },
     "execution_count": 43,
     "metadata": {},
     "output_type": "execute_result"
    }
   ],
   "source": [
    "A = np.random.random((2, 2))\n",
    "A"
   ]
  },
  {
   "cell_type": "code",
   "execution_count": 44,
   "metadata": {
    "ExecuteTime": {
     "end_time": "2019-12-19T13:20:01.777062Z",
     "start_time": "2019-12-19T13:20:01.764646Z"
    }
   },
   "outputs": [
    {
     "data": {
      "text/plain": [
       "array([[1.02732452, 1.11037372],\n",
       "       [1.44067171, 1.68121525]])"
      ]
     },
     "execution_count": 44,
     "metadata": {},
     "output_type": "execute_result"
    }
   ],
   "source": [
    "A + 1"
   ]
  },
  {
   "cell_type": "code",
   "execution_count": 45,
   "metadata": {
    "ExecuteTime": {
     "end_time": "2019-12-19T13:20:01.972093Z",
     "start_time": "2019-12-19T13:20:01.956868Z"
    }
   },
   "outputs": [
    {
     "data": {
      "text/plain": [
       "array([[1.02732452, 2.11037372],\n",
       "       [1.44067171, 2.68121525]])"
      ]
     },
     "execution_count": 45,
     "metadata": {},
     "output_type": "execute_result"
    }
   ],
   "source": [
    "A + [1, 2]"
   ]
  },
  {
   "cell_type": "code",
   "execution_count": 46,
   "metadata": {
    "ExecuteTime": {
     "end_time": "2019-12-19T13:20:02.147333Z",
     "start_time": "2019-12-19T13:20:02.134102Z"
    }
   },
   "outputs": [
    {
     "data": {
      "text/plain": [
       "array([[1.02732452, 1.11037372],\n",
       "       [2.44067171, 2.68121525]])"
      ]
     },
     "execution_count": 46,
     "metadata": {},
     "output_type": "execute_result"
    }
   ],
   "source": [
    "A + np.array([[1], [2]])"
   ]
  },
  {
   "cell_type": "code",
   "execution_count": 47,
   "metadata": {
    "ExecuteTime": {
     "end_time": "2019-12-19T13:20:02.352895Z",
     "start_time": "2019-12-19T13:20:02.334367Z"
    }
   },
   "outputs": [
    {
     "name": "stdout",
     "output_type": "stream",
     "text": [
      "[0 1 2 3]\n",
      "[ 0 10 20 30 40]\n"
     ]
    },
    {
     "data": {
      "text/plain": [
       "array([[ 0, 10, 20, 30, 40],\n",
       "       [ 1, 11, 21, 31, 41],\n",
       "       [ 2, 12, 22, 32, 42],\n",
       "       [ 3, 13, 23, 33, 43]])"
      ]
     },
     "execution_count": 47,
     "metadata": {},
     "output_type": "execute_result"
    }
   ],
   "source": [
    "A = np.arange(4)\n",
    "B = np.arange(5) * 10\n",
    "print(A)\n",
    "print(B)\n",
    "\n",
    "A.reshape(-1, 1) + B"
   ]
  },
  {
   "cell_type": "markdown",
   "metadata": {},
   "source": [
    "Задания:\n",
    "* написать функции активации, которые принимают и возвращают ndarray. sigmoid, tanh, ReLU, ReLU@k\n",
    "* вспомнить Dense слой (fully-connected, linear)\n",
    "* написать инициализатор для матрицы W: матрица размерности ($N_{in}$ x $N_{out}$), значения в которой -- случайные из промежутка  $$\\pm \\frac{\\sqrt 6}{\\sqrt N_{out}}$$"
   ]
  },
  {
   "cell_type": "markdown",
   "metadata": {},
   "source": [
    "Задания на разные функции:\n",
    "* соединить два заданных массива размерностей (4х2) и (7х2) вертикально, два массива размерностей (4x5) и (4x1) горизонтально (np.hstack, np.vstack)\n",
    "* сгенерировать массив рандомных чисел и посчитать его статистики: среднее, дисперсию. повторить то же самое для n-мерного массива по разным осям, используя как методы, так и функции (np.mean, np.std)\n",
    "* удалить заданную строку/столбец из массива, вставить строку/столбец на заданное место (np.delete, np.insert)\n",
    "* cоздайте двумерный массив 8х8, заполненный 0 и 1 в шахматном порядке\n",
    "* проверьте, есть ли в двумерном массиве строка, полностью заполненная нулями. если есть, то замените значения в этой строке на среднее по столбцам\n",
    "* Пусть заданы два массива x = np.ones(10) и i = np.array([0, 1, 2, 3, 5, 5, 5, 8]). Прибавьте единицу к тем элементам массива x, индексы которых указаны в массиве i. В случае, если некоторый индекс встретился в массиве i несколько раз, прибавьте к соответствующему элементу массива x число вхождений данного индекса в массив i"
   ]
  }
 ],
 "metadata": {
  "kernelspec": {
   "display_name": "Python 3",
   "language": "python",
   "name": "python3"
  },
  "language_info": {
   "codemirror_mode": {
    "name": "ipython",
    "version": 3
   },
   "file_extension": ".py",
   "mimetype": "text/x-python",
   "name": "python",
   "nbconvert_exporter": "python",
   "pygments_lexer": "ipython3",
   "version": "3.7.3"
  },
  "varInspector": {
   "cols": {
    "lenName": 16,
    "lenType": 16,
    "lenVar": 40
   },
   "kernels_config": {
    "python": {
     "delete_cmd_postfix": "",
     "delete_cmd_prefix": "del ",
     "library": "var_list.py",
     "varRefreshCmd": "print(var_dic_list())"
    },
    "r": {
     "delete_cmd_postfix": ") ",
     "delete_cmd_prefix": "rm(",
     "library": "var_list.r",
     "varRefreshCmd": "cat(var_dic_list()) "
    }
   },
   "types_to_exclude": [
    "module",
    "function",
    "builtin_function_or_method",
    "instance",
    "_Feature"
   ],
   "window_display": false
  }
 },
 "nbformat": 4,
 "nbformat_minor": 2
}
